{
  "nbformat": 4,
  "nbformat_minor": 0,
  "metadata": {
    "colab": {
      "provenance": []
    },
    "kernelspec": {
      "name": "python3",
      "display_name": "Python 3"
    },
    "language_info": {
      "name": "python"
    }
  },
  "cells": [
    {
      "cell_type": "code",
      "execution_count": 2,
      "metadata": {
        "colab": {
          "base_uri": "https://localhost:8080/"
        },
        "id": "JQOT04kGbwd6",
        "outputId": "9441a687-41a0-4d99-e238-499588f40209"
      },
      "outputs": [
        {
          "output_type": "stream",
          "name": "stdout",
          "text": [
            "Collecting pyspark\n",
            "  Downloading pyspark-3.5.1.tar.gz (317.0 MB)\n",
            "\u001b[2K     \u001b[90m━━━━━━━━━━━━━━━━━━━━━━━━━━━━━━━━━━━━━━━━\u001b[0m \u001b[32m317.0/317.0 MB\u001b[0m \u001b[31m2.5 MB/s\u001b[0m eta \u001b[36m0:00:00\u001b[0m\n",
            "\u001b[?25h  Preparing metadata (setup.py) ... \u001b[?25l\u001b[?25hdone\n",
            "Requirement already satisfied: py4j==0.10.9.7 in /usr/local/lib/python3.10/dist-packages (from pyspark) (0.10.9.7)\n",
            "Building wheels for collected packages: pyspark\n",
            "  Building wheel for pyspark (setup.py) ... \u001b[?25l\u001b[?25hdone\n",
            "  Created wheel for pyspark: filename=pyspark-3.5.1-py2.py3-none-any.whl size=317488491 sha256=c5d498e22201ab08f3fb989d11fcf0bbea7394c2afad9343038a85f9f4f03074\n",
            "  Stored in directory: /root/.cache/pip/wheels/80/1d/60/2c256ed38dddce2fdd93be545214a63e02fbd8d74fb0b7f3a6\n",
            "Successfully built pyspark\n",
            "Installing collected packages: pyspark\n",
            "Successfully installed pyspark-3.5.1\n"
          ]
        }
      ],
      "source": [
        "!pip install pyspark"
      ]
    },
    {
      "cell_type": "code",
      "source": [
        "from google.colab import drive\n",
        "drive.mount('/content/drive')"
      ],
      "metadata": {
        "colab": {
          "base_uri": "https://localhost:8080/"
        },
        "id": "E1JOqa4wmYCK",
        "outputId": "bfb2af4a-8a3c-440e-ab58-78e2b7e80700"
      },
      "execution_count": 3,
      "outputs": [
        {
          "output_type": "stream",
          "name": "stdout",
          "text": [
            "Drive already mounted at /content/drive; to attempt to forcibly remount, call drive.mount(\"/content/drive\", force_remount=True).\n"
          ]
        }
      ]
    },
    {
      "cell_type": "code",
      "source": [
        "%cd /content/drive/My Drive/us/"
      ],
      "metadata": {
        "colab": {
          "base_uri": "https://localhost:8080/"
        },
        "id": "XDVq6DmRmvl6",
        "outputId": "5ca269b9-0b35-4c9b-a246-c6748e81c4ee"
      },
      "execution_count": 4,
      "outputs": [
        {
          "output_type": "stream",
          "name": "stdout",
          "text": [
            "/content/drive/My Drive/us\n"
          ]
        }
      ]
    },
    {
      "cell_type": "code",
      "source": [
        "from pyspark.sql import SparkSession\n",
        "\n",
        "# Step 1: Create a SparkSession\n",
        "spark = SparkSession.builder \\\n",
        "    .appName(\"TRI Data Prediciting\") \\\n",
        "    .getOrCreate()\n",
        "\n",
        "# Step 2: Read each CSV file into a DataFrame\n",
        "file_paths = [\"/content/drive/MyDrive/us/2008_us.csv\", \"/content/drive/MyDrive/us/2009_us.csv\", \"/content/drive/MyDrive/us/2010_us.csv\", \"/content/drive/MyDrive/us/2011_us.csv\", \"/content/drive/MyDrive/us/2012_us.csv\", \"/content/drive/MyDrive/us/2013_us.csv\", \"/content/drive/MyDrive/us/2014_us.csv\", \"/content/drive/MyDrive/us/2015_us.csv\", \"/content/drive/MyDrive/us/2016_us.csv\", \"/content/drive/MyDrive/us/2017_us.csv\", \"/content/drive/MyDrive/us/2018_us.csv\",\"/content/drive/MyDrive/us/2019_us.csv\", \"/content/drive/MyDrive/us/2020_us.csv\", \"/content/drive/MyDrive/us/2021_us.csv\", \"/content/drive/MyDrive/us/2022_us.csv\"]  # List of CSV file paths\n",
        "\n",
        "dataframes = []\n",
        "for file_path in file_paths:\n",
        "    df = spark.read.csv(file_path, header=True, inferSchema=True)\n",
        "    dataframes.append(df)\n",
        "\n",
        "# Step 3: Union all the DataFrames together\n",
        "combined_df = dataframes[0]\n",
        "for df in dataframes[1:]:\n",
        "    combined_df = combined_df.union(df)\n"
      ],
      "metadata": {
        "id": "XR9bqw-Km0pj"
      },
      "execution_count": 5,
      "outputs": []
    },
    {
      "cell_type": "markdown",
      "source": [
        "Let's take a look at the head of the dataframe using the show() function"
      ],
      "metadata": {
        "id": "0_rVndVja9cc"
      }
    },
    {
      "cell_type": "code",
      "source": [
        "combined_df.show(5,0)"
      ],
      "metadata": {
        "colab": {
          "base_uri": "https://localhost:8080/"
        },
        "id": "QigTmrxya2Pw",
        "outputId": "f60810f5-f0fc-459b-cc12-e50ad0f58e25"
      },
      "execution_count": 6,
      "outputs": [
        {
          "output_type": "stream",
          "name": "stdout",
          "text": [
            "+-------+---------------+------------+----------------------------------------------------+-----------------+---------+---------+-----+------+-------+------------------------------+------------+-------------+--------------------+------------------------+--------------------+---------------------------+--------------------+------------------------+-------------------+---------------+---------+---------+---------+---------+---------+-----------------+-----------+-----------+-----------+-----------+-----------+----------------+----------------------------------------------------------------+----------------------------+----------------------------+--------+----------+--------------------------+------------------+---------+--------------------------+--------------+-------+--------+-------------+-------------------+----------------------+-------------------+---------------+---------------------+----------------------------+------------------------------+---------------------+----------------------------+----------------------------+--------------------------+----------------------------+----------------------------+----------------------------+--------------------------+-------------------------+--------------------------+-------------------------+--------------------------+-------------+-------------+-------------+-------------------+-------------------+-------------+-------------+-------------+-------------+-------------+-------------+-------------+-------------+-------------+-------------+-------------+-------------+-------------+-------------+--------------------------+-------------+-------------+-------------+-------------+-------------+---------------------------+-------------+-------------+------------------------------+-----------------------+-------------+-------------+-----------------------+-------------+--------------+---------------------------+-----------------------+-------------------------+-------------------+-------------------+-----------------------------+-------------------------+----------------------------+----------------------------+----------------------------+----------------------------+----------------------------+----------------------------+----------------------------+-----------------------------+------------------------------+---------------------------+----------------------------+---------------------------+\n",
            "|1. YEAR|2. TRIFD       |3. FRS ID   |4. FACILITY NAME                                    |5. STREET ADDRESS|6. CITY  |7. COUNTY|8. ST|9. ZIP|10. BIA|11. TRIBE                     |12. LATITUDE|13. LONGITUDE|14. HORIZONTAL DATUM|15. PARENT CO NAME      |16. PARENT CO DB NUM|17. STANDARD PARENT CO NAME|18. FEDERAL FACILITY|19. INDUSTRY SECTOR CODE|20. INDUSTRY SECTOR|21. PRIMARY SIC|22. SIC 2|23. SIC 3|24. SIC 4|25. SIC 5|26. SIC 6|27. PRIMARY NAICS|28. NAICS 2|29. NAICS 3|30. NAICS 4|31. NAICS 5|32. NAICS 6|33. DOC_CTRL_NUM|34. CHEMICAL                                                    |35. ELEMENTAL METAL INCLUDED|36. TRI CHEMICAL/COMPOUND ID|37. CAS#|38. SRS ID|39. CLEAN AIR ACT CHEMICAL|40. CLASSIFICATION|41. METAL|42. METAL CATEGORY        |43. CARCINOGEN|44. PBT|45. PFAS|46. FORM TYPE|47. UNIT OF MEASURE|48. 5.1 - FUGITIVE AIR|49. 5.2 - STACK AIR|50. 5.3 - WATER|51. 5.4 - UNDERGROUND|52. 5.4.1 - UNDERGROUND CL I|53. 5.4.2 - UNDERGROUND C II-V|54. 5.5.1 - LANDFILLS|55. 5.5.1A - RCRA C LANDFILL|56. 5.5.1B - OTHER LANDFILLS|57. 5.5.2 - LAND TREATMENT|58. 5.5.3 - SURFACE IMPNDMNT|59. 5.5.3A - RCRA SURFACE IM|60. 5.5.3B - OTHER SURFACE I|61. 5.5.4 - OTHER DISPOSAL|62. ON-SITE RELEASE TOTAL|63. 6.1 - POTW - TRNS RLSE|64. 6.1 - POTW - TRNS TRT|65. POTW - TOTAL TRANSFERS|66. 6.2 - M10|67. 6.2 - M41|68. 6.2 - M62|69. 6.2 - M40 METAL|70. 6.2 - M61 METAL|71. 6.2 - M71|72. 6.2 - M81|73. 6.2 - M82|74. 6.2 - M72|75. 6.2 - M63|76. 6.2 - M66|77. 6.2 - M67|78. 6.2 - M64|79. 6.2 - M65|80. 6.2 - M73|81. 6.2 - M79|82. 6.2 - M90|83. 6.2 - M94|84. 6.2 - M99|85. OFF-SITE RELEASE TOTAL|86. 6.2 - M20|87. 6.2 - M24|88. 6.2 - M26|89. 6.2 - M28|90. 6.2 - M93|91. OFF-SITE RECYCLED TOTAL|92. 6.2 - M56|93. 6.2 - M92|94. OFF-SITE ENERGY RECOVERY T|95. 6.2 - M40 NON-METAL|96. 6.2 - M50|97. 6.2 - M54|98. 6.2 - M61 NON-METAL|99. 6.2 - M69|100. 6.2 - M95|101. OFF-SITE TREATED TOTAL|102. 6.2 - UNCLASSIFIED|103. 6.2 - TOTAL TRANSFER|104. TOTAL RELEASES|105. 8.1 - RELEASES|106. 8.1A - ON-SITE CONTAINED|107. 8.1B - ON-SITE OTHER|108. 8.1C - OFF-SITE CONTAIN|109. 8.1D - OFF-SITE OTHER R|110. 8.2 - ENERGY RECOVER ON|111. 8.3 - ENERGY RECOVER OF|112. 8.4 - RECYCLING ON SITE|113. 8.5 - RECYCLING OFF SIT|114. 8.6 - TREATMENT ON SITE|115. 8.7 - TREATMENT OFF SITE|116. PRODUCTION WSTE (8.1-8.7)|117. 8.8 - ONE-TIME RELEASE|118. PROD_RATIO_OR_ ACTIVITY|119. 8.9 - PRODUCTION RATIO|\n",
            "+-------+---------------+------------+----------------------------------------------------+-----------------+---------+---------+-----+------+-------+------------------------------+------------+-------------+--------------------+------------------------+--------------------+---------------------------+--------------------+------------------------+-------------------+---------------+---------+---------+---------+---------+---------+-----------------+-----------+-----------+-----------+-----------+-----------+----------------+----------------------------------------------------------------+----------------------------+----------------------------+--------+----------+--------------------------+------------------+---------+--------------------------+--------------+-------+--------+-------------+-------------------+----------------------+-------------------+---------------+---------------------+----------------------------+------------------------------+---------------------+----------------------------+----------------------------+--------------------------+----------------------------+----------------------------+----------------------------+--------------------------+-------------------------+--------------------------+-------------------------+--------------------------+-------------+-------------+-------------+-------------------+-------------------+-------------+-------------+-------------+-------------+-------------+-------------+-------------+-------------+-------------+-------------+-------------+-------------+-------------+-------------+--------------------------+-------------+-------------+-------------+-------------+-------------+---------------------------+-------------+-------------+------------------------------+-----------------------+-------------+-------------+-----------------------+-------------+--------------+---------------------------+-----------------------+-------------------------+-------------------+-------------------+-----------------------------+-------------------------+----------------------------+----------------------------+----------------------------+----------------------------+----------------------------+----------------------------+----------------------------+-----------------------------+------------------------------+---------------------------+----------------------------+---------------------------+\n",
            "|2008   |73098KRRMC906SO|110000453697|WYNNEWOOD REFINING CO                               |906 S POWELL AVE |WYNNEWOOD|GARVIN   |OK   |73098 |906    |The Chickasaw Nation          |34.6289     |-97.1685     |NAD83               |CVR ENERGY INC          |795416135           |CVR ENERGY INC             |NO                  |324                     |Petroleum          |NULL           |NULL     |NULL     |NULL     |NULL     |NULL     |324110           |NULL       |NULL       |NULL       |NULL       |NULL       |1308206653394   |1,3-Butadiene                                                   |NO                          |0000106990                  |106-99-0|24042     |YES                       |TRI               |NO       |Non_Metal                 |YES           |NO     |NO      |R            |Pounds             |48.0                  |110.0              |0.0            |0.0                  |0.0                         |0.0                           |0.0                  |0.0                         |0.0                         |0.0                       |0.0                         |0.0                         |0.0                         |0.0                       |158.0                    |0.0                       |0.0                      |0.0                       |0.0          |0.0          |0.0          |0.0                |0.0                |0.0          |0.0          |0.0          |0.0          |0.0          |0.0          |0.0          |0.0          |0.0          |0.0          |0.0          |0.0          |0.0          |0.0          |0.0                       |0.0          |0.0          |0.0          |0.0          |0.0          |0.0                        |0.0          |0.0          |0.0                           |0.0                    |0.0          |0.0          |0.0                    |0.0          |0.0           |0.0                        |0.0                    |0.0                      |158.0              |0.0                |0.0                          |158.0                    |0.0                         |0.0                         |380000.0                    |0.0                         |0.0                         |0.0                         |3400.0                      |0.0                          |383558.0                      |NULL                       |NULL                        |1.02                       |\n",
            "|2008   |74501MCLSTHWY69|110000455702|US ARMY MCALESTER ARMY AMMUNITION PLANT             |1 C TREE RD      |MCALESTER|PITTSBURG|OK   |74501 |907    |The Choctaw Nation of Oklahoma|34.845      |-95.893      |NAD83               |US DEPARTMENT OF DEFENSE|020716163           |US DEPARTMENT OF DEFENSE   |YES                 |999                     |Other              |NULL           |NULL     |NULL     |NULL     |NULL     |NULL     |928110           |NULL       |NULL       |NULL       |NULL       |NULL       |1308206326377   |Nitroglycerin                                                   |NO                          |0000055630                  |55-63-0 |1941      |NO                        |TRI               |NO       |Non_Metal                 |NO            |NO     |NO      |R            |Pounds             |0.0                   |0.0                |0.0            |0.0                  |0.0                         |0.0                           |0.0                  |0.0                         |0.0                         |0.0                       |0.0                         |0.0                         |0.0                         |0.0                       |0.0                      |0.0                       |0.0                      |0.0                       |0.0          |0.0          |0.0          |0.0                |0.0                |0.0          |0.0          |0.0          |0.0          |0.0          |0.0          |0.0          |0.0          |0.0          |0.0          |0.0          |0.0          |0.0          |0.0          |0.0                       |0.0          |0.0          |0.0          |0.0          |0.0          |0.0                        |0.0          |0.0          |0.0                           |0.0                    |0.0          |0.0          |0.0                    |0.0          |0.0           |0.0                        |0.0                    |0.0                      |0.0                |0.0                |0.0                          |0.0                      |0.0                         |0.0                         |0.0                         |0.0                         |0.0                         |0.0                         |48190.0                     |0.0                          |48190.0                       |NULL                       |NULL                        |NULL                       |\n",
            "|2008   |74764WYRHSHIGHW|110000598639|INTERNATIONAL PAPER CO                              |890 IP LN        |VALLIANT |MCCURTAIN|OK   |74764 |907    |The Choctaw Nation of Oklahoma|33.9984     |-95.1115     |NAD83               |INTERNATIONAL PAPER CO  |001316561           |INTERNATIONAL PAPER CO     |NO                  |322                     |Paper              |NULL           |NULL     |NULL     |NULL     |NULL     |NULL     |322130           |322110     |NULL       |NULL       |NULL       |NULL       |1308206869289   |Barium compounds (except for barium sulfate (CAS No. 7727-43-7))|NO                          |N040                        |N040    |649426    |NO                        |TRI               |NO       |Metal complound categories|NO            |NO     |NO      |R            |Pounds             |0.0                   |3924.0             |0.0            |0.0                  |0.0                         |0.0                           |0.0                  |0.0                         |16002.0                     |0.0                       |0.0                         |0.0                         |12479.0                     |0.0                       |32405.0                  |0.0                       |0.0                      |0.0                       |0.0          |0.0          |0.0          |0.0                |0.0                |0.0          |0.0          |0.0          |0.0          |0.0          |0.0          |0.0          |0.0          |0.0          |0.0          |0.0          |0.0          |0.0          |0.0          |0.0                       |0.0          |0.0          |0.0          |0.0          |0.0          |0.0                        |0.0          |0.0          |0.0                           |0.0                    |0.0          |0.0          |0.0                    |0.0          |0.0           |0.0                        |0.0                    |0.0                      |32405.0            |0.0                |16002.0                      |16403.0                  |0.0                         |0.0                         |0.0                         |0.0                         |0.0                         |0.0                         |0.0                         |0.0                          |32405.0                       |0.0                        |NULL                        |94.95                      |\n",
            "|2008   |73401TTLPTHIGHW|110000606746|VALERO REFINING CO -OKLAHOMA VALERO ARDMORE REFINERY|ONE VALERO WAY   |ARDMORE  |CARTER   |OK   |73401 |906    |The Chickasaw Nation          |34.20569    |-97.10417    |NAD83               |VALERO ENERGY CORP      |NA                  |VALERO ENERGY CORP         |NO                  |324                     |Petroleum          |NULL           |NULL     |NULL     |NULL     |NULL     |NULL     |324110           |NULL       |NULL       |NULL       |NULL       |NULL       |1308206658369   |Carbon disulfide                                                |NO                          |0000075150                  |75-15-0 |5348      |YES                       |TRI               |NO       |Non_Metal                 |NO            |NO     |NO      |R            |Pounds             |0.0                   |434.6              |0.0            |0.0                  |0.0                         |0.0                           |0.0                  |0.0                         |0.0                         |0.0                       |0.0                         |0.0                         |0.0                         |0.0                       |434.6                    |0.0                       |0.0                      |0.0                       |0.0          |0.0          |0.0          |0.0                |0.0                |0.0          |0.0          |0.0          |0.0          |0.0          |0.0          |0.0          |0.0          |0.0          |0.0          |0.0          |0.0          |0.0          |0.0          |0.0                       |0.0          |0.0          |0.0          |0.0          |0.0          |0.0                        |0.0          |0.0          |0.0                           |0.0                    |0.0          |0.0          |0.0                    |0.0          |0.0           |0.0                        |0.0                    |0.0                      |434.6              |0.0                |0.0                          |434.6                    |0.0                         |0.0                         |0.0                         |0.0                         |0.0                         |0.0                         |1752936.0                   |0.0                          |1753370.6                     |NULL                       |NULL                        |NULL                       |\n",
            "|2008   |74764WYRHSHIGHW|110000598639|INTERNATIONAL PAPER CO                              |890 IP LN        |VALLIANT |MCCURTAIN|OK   |74764 |907    |The Choctaw Nation of Oklahoma|33.9984     |-95.1115     |NAD83               |INTERNATIONAL PAPER CO  |001316561           |INTERNATIONAL PAPER CO     |NO                  |322                     |Paper              |NULL           |NULL     |NULL     |NULL     |NULL     |NULL     |322130           |322110     |NULL       |NULL       |NULL       |NULL       |1308206869341   |Lead compounds                                                  |NO                          |N420                        |N420    |650002    |YES                       |PBT               |YES      |Metal complound categories|NO            |YES    |NO      |R            |Pounds             |0.0                   |654.0              |212.0          |0.0                  |0.0                         |0.0                           |0.0                  |0.0                         |1394.5                      |0.0                       |0.0                         |0.0                         |548.7                       |0.0                       |2809.2                   |0.0                       |0.0                      |0.0                       |0.0          |0.0          |0.0          |0.0                |0.0                |0.0          |0.0          |0.0          |0.0          |0.0          |0.0          |0.0          |0.0          |0.0          |0.0          |0.0          |0.0          |0.0          |0.0          |0.0                       |0.0          |600.0        |0.0          |0.0          |0.0          |600.0                      |0.0          |0.0          |0.0                           |0.0                    |0.0          |0.0          |0.0                    |0.0          |0.0           |0.0                        |0.0                    |600.0                    |2809.2             |0.0                |1394.5                       |1414.7                   |0.0                         |0.0                         |0.0                         |0.0                         |0.0                         |600.0                       |0.0                         |0.0                          |3409.2                        |0.0                        |NULL                        |94.95                      |\n",
            "+-------+---------------+------------+----------------------------------------------------+-----------------+---------+---------+-----+------+-------+------------------------------+------------+-------------+--------------------+------------------------+--------------------+---------------------------+--------------------+------------------------+-------------------+---------------+---------+---------+---------+---------+---------+-----------------+-----------+-----------+-----------+-----------+-----------+----------------+----------------------------------------------------------------+----------------------------+----------------------------+--------+----------+--------------------------+------------------+---------+--------------------------+--------------+-------+--------+-------------+-------------------+----------------------+-------------------+---------------+---------------------+----------------------------+------------------------------+---------------------+----------------------------+----------------------------+--------------------------+----------------------------+----------------------------+----------------------------+--------------------------+-------------------------+--------------------------+-------------------------+--------------------------+-------------+-------------+-------------+-------------------+-------------------+-------------+-------------+-------------+-------------+-------------+-------------+-------------+-------------+-------------+-------------+-------------+-------------+-------------+-------------+--------------------------+-------------+-------------+-------------+-------------+-------------+---------------------------+-------------+-------------+------------------------------+-----------------------+-------------+-------------+-----------------------+-------------+--------------+---------------------------+-----------------------+-------------------------+-------------------+-------------------+-----------------------------+-------------------------+----------------------------+----------------------------+----------------------------+----------------------------+----------------------------+----------------------------+----------------------------+-----------------------------+------------------------------+---------------------------+----------------------------+---------------------------+\n",
            "only showing top 5 rows\n",
            "\n"
          ]
        }
      ]
    },
    {
      "cell_type": "markdown",
      "source": [
        "The dataframe consists of"
      ],
      "metadata": {
        "id": "uE45qimFbILc"
      }
    },
    {
      "cell_type": "code",
      "source": [
        "# You can get the column names using the 'columns' attribute\n",
        "column_names = combined_df.columns\n",
        "\n",
        "# Print the column names\n",
        "print(\"Column Names:\")\n",
        "for name in column_names:\n",
        "   print(name)"
      ],
      "metadata": {
        "colab": {
          "base_uri": "https://localhost:8080/"
        },
        "id": "4CStDYA8I7uN",
        "outputId": "c829d2ca-8145-44dc-c7c7-d835bec71d5e"
      },
      "execution_count": 7,
      "outputs": [
        {
          "output_type": "stream",
          "name": "stdout",
          "text": [
            "Column Names:\n",
            "1. YEAR\n",
            "2. TRIFD\n",
            "3. FRS ID\n",
            "4. FACILITY NAME\n",
            "5. STREET ADDRESS\n",
            "6. CITY\n",
            "7. COUNTY\n",
            "8. ST\n",
            "9. ZIP\n",
            "10. BIA\n",
            "11. TRIBE\n",
            "12. LATITUDE\n",
            "13. LONGITUDE\n",
            "14. HORIZONTAL DATUM\n",
            "15. PARENT CO NAME\n",
            "16. PARENT CO DB NUM\n",
            "17. STANDARD PARENT CO NAME\n",
            "18. FEDERAL FACILITY\n",
            "19. INDUSTRY SECTOR CODE\n",
            "20. INDUSTRY SECTOR\n",
            "21. PRIMARY SIC\n",
            "22. SIC 2\n",
            "23. SIC 3\n",
            "24. SIC 4\n",
            "25. SIC 5\n",
            "26. SIC 6\n",
            "27. PRIMARY NAICS\n",
            "28. NAICS 2\n",
            "29. NAICS 3\n",
            "30. NAICS 4\n",
            "31. NAICS 5\n",
            "32. NAICS 6\n",
            "33. DOC_CTRL_NUM\n",
            "34. CHEMICAL\n",
            "35. ELEMENTAL METAL INCLUDED\n",
            "36. TRI CHEMICAL/COMPOUND ID\n",
            "37. CAS#\n",
            "38. SRS ID\n",
            "39. CLEAN AIR ACT CHEMICAL\n",
            "40. CLASSIFICATION\n",
            "41. METAL\n",
            "42. METAL CATEGORY\n",
            "43. CARCINOGEN\n",
            "44. PBT\n",
            "45. PFAS\n",
            "46. FORM TYPE\n",
            "47. UNIT OF MEASURE\n",
            "48. 5.1 - FUGITIVE AIR\n",
            "49. 5.2 - STACK AIR\n",
            "50. 5.3 - WATER\n",
            "51. 5.4 - UNDERGROUND\n",
            "52. 5.4.1 - UNDERGROUND CL I\n",
            "53. 5.4.2 - UNDERGROUND C II-V\n",
            "54. 5.5.1 - LANDFILLS\n",
            "55. 5.5.1A - RCRA C LANDFILL\n",
            "56. 5.5.1B - OTHER LANDFILLS\n",
            "57. 5.5.2 - LAND TREATMENT\n",
            "58. 5.5.3 - SURFACE IMPNDMNT\n",
            "59. 5.5.3A - RCRA SURFACE IM\n",
            "60. 5.5.3B - OTHER SURFACE I\n",
            "61. 5.5.4 - OTHER DISPOSAL\n",
            "62. ON-SITE RELEASE TOTAL\n",
            "63. 6.1 - POTW - TRNS RLSE\n",
            "64. 6.1 - POTW - TRNS TRT\n",
            "65. POTW - TOTAL TRANSFERS\n",
            "66. 6.2 - M10\n",
            "67. 6.2 - M41\n",
            "68. 6.2 - M62\n",
            "69. 6.2 - M40 METAL\n",
            "70. 6.2 - M61 METAL\n",
            "71. 6.2 - M71\n",
            "72. 6.2 - M81\n",
            "73. 6.2 - M82\n",
            "74. 6.2 - M72\n",
            "75. 6.2 - M63\n",
            "76. 6.2 - M66\n",
            "77. 6.2 - M67\n",
            "78. 6.2 - M64\n",
            "79. 6.2 - M65\n",
            "80. 6.2 - M73\n",
            "81. 6.2 - M79\n",
            "82. 6.2 - M90\n",
            "83. 6.2 - M94\n",
            "84. 6.2 - M99\n",
            "85. OFF-SITE RELEASE TOTAL\n",
            "86. 6.2 - M20\n",
            "87. 6.2 - M24\n",
            "88. 6.2 - M26\n",
            "89. 6.2 - M28\n",
            "90. 6.2 - M93\n",
            "91. OFF-SITE RECYCLED TOTAL\n",
            "92. 6.2 - M56\n",
            "93. 6.2 - M92\n",
            "94. OFF-SITE ENERGY RECOVERY T\n",
            "95. 6.2 - M40 NON-METAL\n",
            "96. 6.2 - M50\n",
            "97. 6.2 - M54\n",
            "98. 6.2 - M61 NON-METAL\n",
            "99. 6.2 - M69\n",
            "100. 6.2 - M95\n",
            "101. OFF-SITE TREATED TOTAL\n",
            "102. 6.2 - UNCLASSIFIED\n",
            "103. 6.2 - TOTAL TRANSFER\n",
            "104. TOTAL RELEASES\n",
            "105. 8.1 - RELEASES\n",
            "106. 8.1A - ON-SITE CONTAINED\n",
            "107. 8.1B - ON-SITE OTHER\n",
            "108. 8.1C - OFF-SITE CONTAIN\n",
            "109. 8.1D - OFF-SITE OTHER R\n",
            "110. 8.2 - ENERGY RECOVER ON\n",
            "111. 8.3 - ENERGY RECOVER OF\n",
            "112. 8.4 - RECYCLING ON SITE\n",
            "113. 8.5 - RECYCLING OFF SIT\n",
            "114. 8.6 - TREATMENT ON SITE\n",
            "115. 8.7 - TREATMENT OFF SITE\n",
            "116. PRODUCTION WSTE (8.1-8.7)\n",
            "117. 8.8 - ONE-TIME RELEASE\n",
            "118. PROD_RATIO_OR_ ACTIVITY\n",
            "119. 8.9 - PRODUCTION RATIO\n"
          ]
        }
      ]
    },
    {
      "cell_type": "markdown",
      "source": [
        "### Exploratory Data Analysis\n",
        "Now that we have seen the variable present in this dataset, let's perform some exploratory data analysis to further understand these data points"
      ],
      "metadata": {
        "id": "qb5C3I26bNx7"
      }
    },
    {
      "cell_type": "markdown",
      "source": [
        "Let's start by counting the number of rows and columns in the dataframe"
      ],
      "metadata": {
        "id": "h5iec1yXbcIH"
      }
    },
    {
      "cell_type": "code",
      "source": [
        "# Get the number of rows\n",
        "num_rows = combined_df.count()\n",
        "\n",
        "# Get the number of columns\n",
        "num_cols = len(combined_df.columns)\n",
        "\n",
        "# Print the shape\n",
        "print(\"Shape of the DataFrame: ({}, {})\".format(num_rows, num_cols))"
      ],
      "metadata": {
        "colab": {
          "base_uri": "https://localhost:8080/"
        },
        "id": "587E6Oy1owTm",
        "outputId": "a57ae816-d141-4ff2-e98c-5358aa965ee6"
      },
      "execution_count": 8,
      "outputs": [
        {
          "output_type": "stream",
          "name": "stdout",
          "text": [
            "Shape of the DataFrame: (1225914, 119)\n"
          ]
        }
      ]
    },
    {
      "cell_type": "markdown",
      "source": [
        "Size of the Dataframe in GB?"
      ],
      "metadata": {
        "id": "RZdK4mwfiMYn"
      }
    },
    {
      "cell_type": "code",
      "source": [
        "from pyspark.sql.functions import *\n",
        "\n",
        "combined_df.cache()\n",
        "\n",
        "# Get the size of each row in bytes\n",
        "row_size_in_bytes = len(combined_df.take(1)[0].__repr__().encode('utf-8'))\n",
        "\n",
        "# Calculate the total size\n",
        "total_size_in_bytes = num_rows * row_size_in_bytes\n",
        "\n",
        "# Convert bytes to gigabytes\n",
        "total_size_in_gb = total_size_in_bytes / (1024**3)\n",
        "\n",
        "print(f\"Total size of the DataFrame: {total_size_in_gb:.2f} GB\")\n"
      ],
      "metadata": {
        "colab": {
          "base_uri": "https://localhost:8080/"
        },
        "id": "QLg14HVz1PgZ",
        "outputId": "96b21e96-a741-4de3-ef9d-9e10415e4381"
      },
      "execution_count": 9,
      "outputs": [
        {
          "output_type": "stream",
          "name": "stdout",
          "text": [
            "Total size of the DataFrame: 3.53 GB\n"
          ]
        }
      ]
    },
    {
      "cell_type": "markdown",
      "source": [
        "Let's change the column names for convenience"
      ],
      "metadata": {
        "id": "2X7KDaiapmRj"
      }
    },
    {
      "cell_type": "code",
      "source": [
        "new_column_names = [\n",
        "    \"YEAR\", \"TRIFD\", \"FRS_ID\", \"FACILITY_NAME\", \"STREET_ADDRESS\", \"CITY\", \"COUNTY\", \"ST\", \"ZIP\", \"BIA\", \"TRIBE\",\n",
        "    \"LATITUDE\", \"LONGITUDE\", \"HORIZONTAL_DATUM\", \"PARENT_CO_NAME\", \"PARENT_CO_DB_NUM\", \"STANDARD_PARENT_CO_NAME\",\n",
        "    \"FEDERAL_FACILITY\", \"INDUSTRY_SECTOR_CODE\", \"INDUSTRY_SECTOR\", \"PRIMARY_SIC\", \"SIC_2\", \"SIC_3\", \"SIC_4\",\n",
        "    \"SIC_5\", \"SIC_6\", \"PRIMARY_NAICS\", \"NAICS_2\", \"NAICS_3\", \"NAICS_4\", \"NAICS_5\", \"NAICS_6\", \"DOC_CTRL_NUM\",\n",
        "    \"CHEMICAL\", \"ELEMENTAL_METAL_INCLUDED\", \"TRI_CHEMICAL_COMPOUND_ID\", \"CAS#\", \"SRS_ID\", \"CLEAN_AIR_ACT_CHEMICAL\",\n",
        "    \"CLASSIFICATION\", \"METAL\", \"METAL_CATEGORY\", \"CARCINOGEN\", \"PBT\", \"PFAS\", \"FORM_TYPE\", \"UNIT_OF_MEASURE\",\n",
        "    \"FUGITIVE_AIR\", \"STACK_AIR\", \"WATER\", \"UNDERGROUND\", \"UNDERGROUND_CL_I\", \"UNDERGROUND_C_II_V\", \"LANDFILLS\",\n",
        "    \"RCRA_C_LANDFILL\", \"OTHER_LANDFILLS\", \"LAND_TREATMENT\", \"SURFACE_IMPNDMNT\", \"RCRA_SURFACE_IM\", \"OTHER_SURFACE_I\",\n",
        "    \"OTHER_DISPOSAL\", \"ON_SITE_RELEASE_TOTAL\", \"POTW_TRNS_RLSE\", \"POTW_TRNS_TRT\", \"POTW_TOTAL_TRANSFERS\", \"M10\",\n",
        "    \"M41\", \"M62\", \"M40_METAL\", \"M61_METAL\", \"M71\", \"M81\", \"M82\", \"M72\", \"M63\", \"M66\", \"M67\", \"M64\", \"M65\", \"M73\",\n",
        "    \"M79\", \"M90\", \"M94\", \"M99\", \"OFF_SITE_RELEASE_TOTAL\", \"M20\", \"M24\", \"M26\", \"M28\", \"M93\", \"OFF_SITE_RECYCLED_TOTAL\",\n",
        "    \"M56\", \"M92\", \"OFF_SITE_ENERGY_RECOVERY_T\", \"M40_NON_METAL\", \"M50\", \"M54\", \"M61_NON_METAL\", \"M69\", \"M95\",\n",
        "    \"OFF_SITE_TREATED_TOTAL\", \"UNCLASSIFIED\", \"TOTAL_TRANSFER\", \"TOTAL_RELEASES\", \"RELEASES\", \"ON_SITE_CONTAINED\",\n",
        "    \"ON_SITE_OTHER\", \"OFF_SITE_CONTAIN\", \"OFF_SITE_OTHER_R\", \"ENERGY_RECOVER_ON\", \"ENERGY_RECOVER_OFF\", \"RECYCLING_ON_SITE\",\n",
        "    \"RECYCLING_OFF_SITE\", \"TREATMENT_ON_SITE\", \"TREATMENT_OFF_SITE\", \"PRODUCTION_WSTE\", \"ONE_TIME_RELEASE\",\n",
        "    \"PROD_RATIO_OR_ACTIVITY\", \"PRODUCTION_RATIO\"\n",
        "]\n",
        "\n",
        "# Rename the columns\n",
        "data = combined_df.toDF(*new_column_names)\n",
        "\n",
        "# Show the DataFrame with the new column names\n",
        "data.show(5,0)"
      ],
      "metadata": {
        "colab": {
          "base_uri": "https://localhost:8080/"
        },
        "id": "ZiX16jumpDgj",
        "outputId": "31d72ce7-2892-4885-9d95-67440378e0a3"
      },
      "execution_count": 10,
      "outputs": [
        {
          "output_type": "stream",
          "name": "stdout",
          "text": [
            "+----+---------------+------------+----------------------------------------------------+----------------+---------+---------+---+-----+---+------------------------------+--------+---------+----------------+------------------------+----------------+------------------------+----------------+--------------------+---------------+-----------+-----+-----+-----+-----+-----+-------------+-------+-------+-------+-------+-------+-------------+----------------------------------------------------------------+------------------------+------------------------+--------+------+----------------------+--------------+-----+--------------------------+----------+---+----+---------+---------------+------------+---------+-----+-----------+----------------+------------------+---------+---------------+---------------+--------------+----------------+---------------+---------------+--------------+---------------------+--------------+-------------+--------------------+---+---+---+---------+---------+---+---+---+---+---+---+---+---+---+---+---+---+---+---+----------------------+---+-----+---+---+---+-----------------------+---+---+--------------------------+-------------+---+---+-------------+---+---+----------------------+------------+--------------+--------------+--------+-----------------+-------------+----------------+----------------+-----------------+------------------+-----------------+------------------+-----------------+------------------+---------------+----------------+----------------------+----------------+\n",
            "|YEAR|TRIFD          |FRS_ID      |FACILITY_NAME                                       |STREET_ADDRESS  |CITY     |COUNTY   |ST |ZIP  |BIA|TRIBE                         |LATITUDE|LONGITUDE|HORIZONTAL_DATUM|PARENT_CO_NAME          |PARENT_CO_DB_NUM|STANDARD_PARENT_CO_NAME |FEDERAL_FACILITY|INDUSTRY_SECTOR_CODE|INDUSTRY_SECTOR|PRIMARY_SIC|SIC_2|SIC_3|SIC_4|SIC_5|SIC_6|PRIMARY_NAICS|NAICS_2|NAICS_3|NAICS_4|NAICS_5|NAICS_6|DOC_CTRL_NUM |CHEMICAL                                                        |ELEMENTAL_METAL_INCLUDED|TRI_CHEMICAL_COMPOUND_ID|CAS#    |SRS_ID|CLEAN_AIR_ACT_CHEMICAL|CLASSIFICATION|METAL|METAL_CATEGORY            |CARCINOGEN|PBT|PFAS|FORM_TYPE|UNIT_OF_MEASURE|FUGITIVE_AIR|STACK_AIR|WATER|UNDERGROUND|UNDERGROUND_CL_I|UNDERGROUND_C_II_V|LANDFILLS|RCRA_C_LANDFILL|OTHER_LANDFILLS|LAND_TREATMENT|SURFACE_IMPNDMNT|RCRA_SURFACE_IM|OTHER_SURFACE_I|OTHER_DISPOSAL|ON_SITE_RELEASE_TOTAL|POTW_TRNS_RLSE|POTW_TRNS_TRT|POTW_TOTAL_TRANSFERS|M10|M41|M62|M40_METAL|M61_METAL|M71|M81|M82|M72|M63|M66|M67|M64|M65|M73|M79|M90|M94|M99|OFF_SITE_RELEASE_TOTAL|M20|M24  |M26|M28|M93|OFF_SITE_RECYCLED_TOTAL|M56|M92|OFF_SITE_ENERGY_RECOVERY_T|M40_NON_METAL|M50|M54|M61_NON_METAL|M69|M95|OFF_SITE_TREATED_TOTAL|UNCLASSIFIED|TOTAL_TRANSFER|TOTAL_RELEASES|RELEASES|ON_SITE_CONTAINED|ON_SITE_OTHER|OFF_SITE_CONTAIN|OFF_SITE_OTHER_R|ENERGY_RECOVER_ON|ENERGY_RECOVER_OFF|RECYCLING_ON_SITE|RECYCLING_OFF_SITE|TREATMENT_ON_SITE|TREATMENT_OFF_SITE|PRODUCTION_WSTE|ONE_TIME_RELEASE|PROD_RATIO_OR_ACTIVITY|PRODUCTION_RATIO|\n",
            "+----+---------------+------------+----------------------------------------------------+----------------+---------+---------+---+-----+---+------------------------------+--------+---------+----------------+------------------------+----------------+------------------------+----------------+--------------------+---------------+-----------+-----+-----+-----+-----+-----+-------------+-------+-------+-------+-------+-------+-------------+----------------------------------------------------------------+------------------------+------------------------+--------+------+----------------------+--------------+-----+--------------------------+----------+---+----+---------+---------------+------------+---------+-----+-----------+----------------+------------------+---------+---------------+---------------+--------------+----------------+---------------+---------------+--------------+---------------------+--------------+-------------+--------------------+---+---+---+---------+---------+---+---+---+---+---+---+---+---+---+---+---+---+---+---+----------------------+---+-----+---+---+---+-----------------------+---+---+--------------------------+-------------+---+---+-------------+---+---+----------------------+------------+--------------+--------------+--------+-----------------+-------------+----------------+----------------+-----------------+------------------+-----------------+------------------+-----------------+------------------+---------------+----------------+----------------------+----------------+\n",
            "|2008|73098KRRMC906SO|110000453697|WYNNEWOOD REFINING CO                               |906 S POWELL AVE|WYNNEWOOD|GARVIN   |OK |73098|906|The Chickasaw Nation          |34.6289 |-97.1685 |NAD83           |CVR ENERGY INC          |795416135       |CVR ENERGY INC          |NO              |324                 |Petroleum      |NULL       |NULL |NULL |NULL |NULL |NULL |324110       |NULL   |NULL   |NULL   |NULL   |NULL   |1308206653394|1,3-Butadiene                                                   |NO                      |0000106990              |106-99-0|24042 |YES                   |TRI           |NO   |Non_Metal                 |YES       |NO |NO  |R        |Pounds         |48.0        |110.0    |0.0  |0.0        |0.0             |0.0               |0.0      |0.0            |0.0            |0.0           |0.0             |0.0            |0.0            |0.0           |158.0                |0.0           |0.0          |0.0                 |0.0|0.0|0.0|0.0      |0.0      |0.0|0.0|0.0|0.0|0.0|0.0|0.0|0.0|0.0|0.0|0.0|0.0|0.0|0.0|0.0                   |0.0|0.0  |0.0|0.0|0.0|0.0                    |0.0|0.0|0.0                       |0.0          |0.0|0.0|0.0          |0.0|0.0|0.0                   |0.0         |0.0           |158.0         |0.0     |0.0              |158.0        |0.0             |0.0             |380000.0         |0.0               |0.0              |0.0               |3400.0           |0.0               |383558.0       |NULL            |NULL                  |1.02            |\n",
            "|2008|74501MCLSTHWY69|110000455702|US ARMY MCALESTER ARMY AMMUNITION PLANT             |1 C TREE RD     |MCALESTER|PITTSBURG|OK |74501|907|The Choctaw Nation of Oklahoma|34.845  |-95.893  |NAD83           |US DEPARTMENT OF DEFENSE|020716163       |US DEPARTMENT OF DEFENSE|YES             |999                 |Other          |NULL       |NULL |NULL |NULL |NULL |NULL |928110       |NULL   |NULL   |NULL   |NULL   |NULL   |1308206326377|Nitroglycerin                                                   |NO                      |0000055630              |55-63-0 |1941  |NO                    |TRI           |NO   |Non_Metal                 |NO        |NO |NO  |R        |Pounds         |0.0         |0.0      |0.0  |0.0        |0.0             |0.0               |0.0      |0.0            |0.0            |0.0           |0.0             |0.0            |0.0            |0.0           |0.0                  |0.0           |0.0          |0.0                 |0.0|0.0|0.0|0.0      |0.0      |0.0|0.0|0.0|0.0|0.0|0.0|0.0|0.0|0.0|0.0|0.0|0.0|0.0|0.0|0.0                   |0.0|0.0  |0.0|0.0|0.0|0.0                    |0.0|0.0|0.0                       |0.0          |0.0|0.0|0.0          |0.0|0.0|0.0                   |0.0         |0.0           |0.0           |0.0     |0.0              |0.0          |0.0             |0.0             |0.0              |0.0               |0.0              |0.0               |48190.0          |0.0               |48190.0        |NULL            |NULL                  |NULL            |\n",
            "|2008|74764WYRHSHIGHW|110000598639|INTERNATIONAL PAPER CO                              |890 IP LN       |VALLIANT |MCCURTAIN|OK |74764|907|The Choctaw Nation of Oklahoma|33.9984 |-95.1115 |NAD83           |INTERNATIONAL PAPER CO  |001316561       |INTERNATIONAL PAPER CO  |NO              |322                 |Paper          |NULL       |NULL |NULL |NULL |NULL |NULL |322130       |322110 |NULL   |NULL   |NULL   |NULL   |1308206869289|Barium compounds (except for barium sulfate (CAS No. 7727-43-7))|NO                      |N040                    |N040    |649426|NO                    |TRI           |NO   |Metal complound categories|NO        |NO |NO  |R        |Pounds         |0.0         |3924.0   |0.0  |0.0        |0.0             |0.0               |0.0      |0.0            |16002.0        |0.0           |0.0             |0.0            |12479.0        |0.0           |32405.0              |0.0           |0.0          |0.0                 |0.0|0.0|0.0|0.0      |0.0      |0.0|0.0|0.0|0.0|0.0|0.0|0.0|0.0|0.0|0.0|0.0|0.0|0.0|0.0|0.0                   |0.0|0.0  |0.0|0.0|0.0|0.0                    |0.0|0.0|0.0                       |0.0          |0.0|0.0|0.0          |0.0|0.0|0.0                   |0.0         |0.0           |32405.0       |0.0     |16002.0          |16403.0      |0.0             |0.0             |0.0              |0.0               |0.0              |0.0               |0.0              |0.0               |32405.0        |0.0             |NULL                  |94.95           |\n",
            "|2008|73401TTLPTHIGHW|110000606746|VALERO REFINING CO -OKLAHOMA VALERO ARDMORE REFINERY|ONE VALERO WAY  |ARDMORE  |CARTER   |OK |73401|906|The Chickasaw Nation          |34.20569|-97.10417|NAD83           |VALERO ENERGY CORP      |NA              |VALERO ENERGY CORP      |NO              |324                 |Petroleum      |NULL       |NULL |NULL |NULL |NULL |NULL |324110       |NULL   |NULL   |NULL   |NULL   |NULL   |1308206658369|Carbon disulfide                                                |NO                      |0000075150              |75-15-0 |5348  |YES                   |TRI           |NO   |Non_Metal                 |NO        |NO |NO  |R        |Pounds         |0.0         |434.6    |0.0  |0.0        |0.0             |0.0               |0.0      |0.0            |0.0            |0.0           |0.0             |0.0            |0.0            |0.0           |434.6                |0.0           |0.0          |0.0                 |0.0|0.0|0.0|0.0      |0.0      |0.0|0.0|0.0|0.0|0.0|0.0|0.0|0.0|0.0|0.0|0.0|0.0|0.0|0.0|0.0                   |0.0|0.0  |0.0|0.0|0.0|0.0                    |0.0|0.0|0.0                       |0.0          |0.0|0.0|0.0          |0.0|0.0|0.0                   |0.0         |0.0           |434.6         |0.0     |0.0              |434.6        |0.0             |0.0             |0.0              |0.0               |0.0              |0.0               |1752936.0        |0.0               |1753370.6      |NULL            |NULL                  |NULL            |\n",
            "|2008|74764WYRHSHIGHW|110000598639|INTERNATIONAL PAPER CO                              |890 IP LN       |VALLIANT |MCCURTAIN|OK |74764|907|The Choctaw Nation of Oklahoma|33.9984 |-95.1115 |NAD83           |INTERNATIONAL PAPER CO  |001316561       |INTERNATIONAL PAPER CO  |NO              |322                 |Paper          |NULL       |NULL |NULL |NULL |NULL |NULL |322130       |322110 |NULL   |NULL   |NULL   |NULL   |1308206869341|Lead compounds                                                  |NO                      |N420                    |N420    |650002|YES                   |PBT           |YES  |Metal complound categories|NO        |YES|NO  |R        |Pounds         |0.0         |654.0    |212.0|0.0        |0.0             |0.0               |0.0      |0.0            |1394.5         |0.0           |0.0             |0.0            |548.7          |0.0           |2809.2               |0.0           |0.0          |0.0                 |0.0|0.0|0.0|0.0      |0.0      |0.0|0.0|0.0|0.0|0.0|0.0|0.0|0.0|0.0|0.0|0.0|0.0|0.0|0.0|0.0                   |0.0|600.0|0.0|0.0|0.0|600.0                  |0.0|0.0|0.0                       |0.0          |0.0|0.0|0.0          |0.0|0.0|0.0                   |0.0         |600.0         |2809.2        |0.0     |1394.5           |1414.7       |0.0             |0.0             |0.0              |0.0               |0.0              |600.0             |0.0              |0.0               |3409.2         |0.0             |NULL                  |94.95           |\n",
            "+----+---------------+------------+----------------------------------------------------+----------------+---------+---------+---+-----+---+------------------------------+--------+---------+----------------+------------------------+----------------+------------------------+----------------+--------------------+---------------+-----------+-----+-----+-----+-----+-----+-------------+-------+-------+-------+-------+-------+-------------+----------------------------------------------------------------+------------------------+------------------------+--------+------+----------------------+--------------+-----+--------------------------+----------+---+----+---------+---------------+------------+---------+-----+-----------+----------------+------------------+---------+---------------+---------------+--------------+----------------+---------------+---------------+--------------+---------------------+--------------+-------------+--------------------+---+---+---+---------+---------+---+---+---+---+---+---+---+---+---+---+---+---+---+---+----------------------+---+-----+---+---+---+-----------------------+---+---+--------------------------+-------------+---+---+-------------+---+---+----------------------+------------+--------------+--------------+--------+-----------------+-------------+----------------+----------------+-----------------+------------------+-----------------+------------------+-----------------+------------------+---------------+----------------+----------------------+----------------+\n",
            "only showing top 5 rows\n",
            "\n"
          ]
        }
      ]
    },
    {
      "cell_type": "markdown",
      "source": [
        "How many unique facility names are present in the dataframe?"
      ],
      "metadata": {
        "id": "JUv_TisbhKUy"
      }
    },
    {
      "cell_type": "code",
      "source": [
        "data.select('FACILITY_NAME').distinct().count()"
      ],
      "metadata": {
        "colab": {
          "base_uri": "https://localhost:8080/"
        },
        "id": "OX96a_mXpkW2",
        "outputId": "985ce8a3-88d8-411f-9e04-801a93ceb289"
      },
      "execution_count": 11,
      "outputs": [
        {
          "output_type": "execute_result",
          "data": {
            "text/plain": [
              "29826"
            ]
          },
          "metadata": {},
          "execution_count": 11
        }
      ]
    },
    {
      "cell_type": "markdown",
      "source": [
        "How many unique years are present in the dataframe?"
      ],
      "metadata": {
        "id": "kzky8OCrp9m-"
      }
    },
    {
      "cell_type": "code",
      "source": [
        "data.select('YEAR').distinct().count()"
      ],
      "metadata": {
        "colab": {
          "base_uri": "https://localhost:8080/"
        },
        "id": "zxfUKDPlg8DU",
        "outputId": "b581f133-e44a-47b5-c8ac-461fc7a04b3e"
      },
      "execution_count": 12,
      "outputs": [
        {
          "output_type": "execute_result",
          "data": {
            "text/plain": [
              "15"
            ]
          },
          "metadata": {},
          "execution_count": 12
        }
      ]
    },
    {
      "cell_type": "markdown",
      "source": [
        "Number of facilites listed each year"
      ],
      "metadata": {
        "id": "cMOd8Y9zJQIR"
      }
    },
    {
      "cell_type": "code",
      "source": [
        "from pyspark.sql.functions import *\n",
        "from pyspark.sql.types import *\n",
        "\n",
        "data.groupBy('YEAR').agg(countDistinct('FACILITY_NAME').alias('facility_count')).orderBy(desc('facility_count')).show()"
      ],
      "metadata": {
        "colab": {
          "base_uri": "https://localhost:8080/"
        },
        "id": "c7NiGzTDJbdv",
        "outputId": "7a31839a-c775-4c42-af04-6509a0008263"
      },
      "execution_count": 13,
      "outputs": [
        {
          "output_type": "stream",
          "name": "stdout",
          "text": [
            "+----+--------------+\n",
            "|YEAR|facility_count|\n",
            "+----+--------------+\n",
            "|2008|         19711|\n",
            "|2014|         19348|\n",
            "|2015|         19346|\n",
            "|2018|         19274|\n",
            "|2013|         19240|\n",
            "|2019|         19202|\n",
            "|2016|         19198|\n",
            "|2017|         19124|\n",
            "|2012|         19108|\n",
            "|2009|         18973|\n",
            "|2011|         18938|\n",
            "|2022|         18929|\n",
            "|2010|         18869|\n",
            "|2020|         18813|\n",
            "|2021|         18733|\n",
            "+----+--------------+\n",
            "\n"
          ]
        }
      ]
    },
    {
      "cell_type": "markdown",
      "source": [
        "Production Waste of facilities by year"
      ],
      "metadata": {
        "id": "Gi0PE083N0bZ"
      }
    },
    {
      "cell_type": "code",
      "source": [
        "data.groupBy('YEAR', 'FACILITY_NAME').agg(sum('PRODUCTION_WSTE').alias('production_waste_count')).orderBy(desc('production_waste_count')).show()"
      ],
      "metadata": {
        "colab": {
          "base_uri": "https://localhost:8080/"
        },
        "id": "r3SbcEzIO4pZ",
        "outputId": "937355cd-27ab-47aa-bdab-fc3223df85e1"
      },
      "execution_count": 14,
      "outputs": [
        {
          "output_type": "stream",
          "name": "stdout",
          "text": [
            "+----+--------------------+----------------------+\n",
            "|YEAR|       FACILITY_NAME|production_waste_count|\n",
            "+----+--------------------+----------------------+\n",
            "|2017|ADVANSIX RESINS &...|      3.777527111199E9|\n",
            "|2018|ADVANSIX RESINS &...|  3.7375192371470003E9|\n",
            "|2020|ADVANSIX RESINS &...|      3.634405895533E9|\n",
            "|2019|ADVANSIX RESINS &...|      3.628819851283E9|\n",
            "|2014|ADVANSIX RESINS &...|      3.523300642288E9|\n",
            "|2015|ADVANSIX RESINS &...|  3.4544861842999997E9|\n",
            "|2016|ADVANSIX RESINS &...|       3.44357336016E9|\n",
            "|2021|ADVANSIX RESINS &...|  3.1927472909330006E9|\n",
            "|2022|ADVANSIX RESINS &...|      3.128234645665E9|\n",
            "|2018|SABIC INNOVATIVE ...|  2.0491403806899998E9|\n",
            "|2013|SABIC INNOVATIVE ...|       2.04167375138E9|\n",
            "|2020|SABIC INNOVATIVE ...|       2.01453755997E9|\n",
            "|2021|SABIC INNOVATIVE ...|  1.9609314936499999E9|\n",
            "|2014|SABIC INNOVATIVE ...|       1.95977452326E9|\n",
            "|2016|SABIC INNOVATIVE ...|   1.831241049369053E9|\n",
            "|2017|SABIC INNOVATIVE ...|       1.76634215272E9|\n",
            "|2019|SABIC INNOVATIVE ...|  1.6704097868700001E9|\n",
            "|2015|SABIC INNOVATIVE ...|     1.6548830612778E9|\n",
            "|2018|SABIC INNOVATIVE ...|       1.64274846389E9|\n",
            "|2019|SABIC INNOVATIVE ...|        1.5185939954E9|\n",
            "+----+--------------------+----------------------+\n",
            "only showing top 20 rows\n",
            "\n"
          ]
        }
      ]
    },
    {
      "cell_type": "markdown",
      "source": [
        "Facilities with maximum total releases by year"
      ],
      "metadata": {
        "id": "0V2a1r5dT66w"
      }
    },
    {
      "cell_type": "code",
      "source": [
        "data.groupBy('YEAR', 'FACILITY_NAME').agg(sum('TOTAL_RELEASES').alias('total_releases')).orderBy(desc('total_releases')).show()"
      ],
      "metadata": {
        "id": "SJ46tbaC6ZOb",
        "colab": {
          "base_uri": "https://localhost:8080/"
        },
        "outputId": "668d96c9-c1b5-42cd-f30a-70adc732c60f"
      },
      "execution_count": 20,
      "outputs": [
        {
          "output_type": "stream",
          "name": "stdout",
          "text": [
            "+----+--------------------+-------------------+\n",
            "|YEAR|       FACILITY_NAME|     total_releases|\n",
            "+----+--------------------+-------------------+\n",
            "|2014|  RED DOG OPERATIONS|1.124384887783258E9|\n",
            "|2017|  RED DOG OPERATIONS|1.082414488472233E9|\n",
            "|2011|  RED DOG OPERATIONS|   9.893925494059E8|\n",
            "|2013|  RED DOG OPERATIONS| 9.06386078728046E8|\n",
            "|2018|  RED DOG OPERATIONS| 8.85682875982152E8|\n",
            "|2012|  RED DOG OPERATIONS| 8.14003362633961E8|\n",
            "|2010|  RED DOG OPERATIONS|    7.77395672196E8|\n",
            "|2016|  RED DOG OPERATIONS|7.769739303205142E8|\n",
            "|2019|  RED DOG OPERATIONS|7.692335142554001E8|\n",
            "|2022|  RED DOG OPERATIONS|   6.586648876047E8|\n",
            "|2009|  RED DOG OPERATIONS|     6.3752167829E8|\n",
            "|2021|  RED DOG OPERATIONS|6.017848116464001E8|\n",
            "|2015|  RED DOG OPERATIONS|  5.6122214576018E8|\n",
            "|2020|  RED DOG OPERATIONS| 5.43282318454175E8|\n",
            "|2008|  RED DOG OPERATIONS|    5.17196602779E8|\n",
            "|2013|KENNECOTT UTAH CO...| 2.90490644447136E8|\n",
            "|2021|NEVADA GOLD MINES...|      2.751992469E8|\n",
            "|2017|KENNECOTT UTAH CO...| 2.34373091366422E8|\n",
            "|2018|KENNECOTT UTAH CO...| 2.29202537162867E8|\n",
            "|2020|NEVADA GOLD MINES...|      2.203501265E8|\n",
            "+----+--------------------+-------------------+\n",
            "only showing top 20 rows\n",
            "\n"
          ]
        }
      ]
    },
    {
      "cell_type": "markdown",
      "source": [
        "Facility name with the maximum production waste grouping by year."
      ],
      "metadata": {
        "id": "BMjD8TzuNRJU"
      }
    },
    {
      "cell_type": "code",
      "source": [
        "from pyspark.sql.functions import *\n",
        "\n",
        "data.groupBy('YEAR').agg(\n",
        "    max(struct(col(\"PRODUCTION_WSTE\"), col(\"FACILITY_NAME\"))).alias('max_production_waste')\n",
        ").select(\n",
        "    col(\"YEAR\"),\n",
        "    col(\"max_production_waste.FACILITY_NAME\").alias(\"facility_name\"),\n",
        "    col(\"max_production_waste.PRODUCTION_WSTE\").alias(\"max_production_waste\")\n",
        ").show()\n"
      ],
      "metadata": {
        "colab": {
          "base_uri": "https://localhost:8080/"
        },
        "id": "jXPr6AOcMzQk",
        "outputId": "4292fdde-d9bd-4cd6-fa67-2afb706b1ce0"
      },
      "execution_count": 16,
      "outputs": [
        {
          "output_type": "stream",
          "name": "stdout",
          "text": [
            "+----+--------------------+--------------------+\n",
            "|YEAR|       facility_name|max_production_waste|\n",
            "+----+--------------------+--------------------+\n",
            "|2008|INCOBRASA INDUSTR...|        6.10930967E8|\n",
            "|2009|INCOBRASA INDUSTR...|        6.58118289E8|\n",
            "|2010|INCOBRASA INDUSTR...|        5.26788858E8|\n",
            "|2011|INCOBRASA INDUSTR...|        6.34126515E8|\n",
            "|2012|INCOBRASA INDUSTR...|        7.53561435E8|\n",
            "|2013|SABIC INNOVATIVE ...|         1.6721548E9|\n",
            "|2014|ADVANSIX RESINS &...|       3.505279349E9|\n",
            "|2015|ADVANSIX RESINS &...|       3.437780484E9|\n",
            "|2016|ADVANSIX RESINS &...|       3.424307903E9|\n",
            "|2017|ADVANSIX RESINS &...|       3.754289726E9|\n",
            "|2018|ADVANSIX RESINS &...|       3.720134675E9|\n",
            "|2019|ADVANSIX RESINS &...|      3.6131340732E9|\n",
            "|2020|ADVANSIX RESINS &...|       3.623825218E9|\n",
            "|2021|ADVANSIX RESINS &...|        3.18178142E9|\n",
            "|2022|ADVANSIX RESINS &...|       3.118577611E9|\n",
            "+----+--------------------+--------------------+\n",
            "\n"
          ]
        }
      ]
    },
    {
      "cell_type": "markdown",
      "source": [
        "Facility name with minimum production waste grouping by year."
      ],
      "metadata": {
        "id": "LH5RREV8XwgA"
      }
    },
    {
      "cell_type": "code",
      "source": [
        "data.groupBy('YEAR', 'FACILITY_NAME').agg(sum('PRODUCTION_WSTE').alias('total_production_waste')).orderBy(asc('total_production_waste')).show()"
      ],
      "metadata": {
        "colab": {
          "base_uri": "https://localhost:8080/"
        },
        "id": "SNTMZUzMM9tw",
        "outputId": "e8e58ce1-67ab-4baa-90bd-041e5c96f513"
      },
      "execution_count": 23,
      "outputs": [
        {
          "output_type": "stream",
          "name": "stdout",
          "text": [
            "+----+--------------------+----------------------+\n",
            "|YEAR|       FACILITY_NAME|total_production_waste|\n",
            "+----+--------------------+----------------------+\n",
            "|2008|TYSON CHICKEN INC...|                   0.0|\n",
            "|2008|PIONEER MANUFACTU...|                   0.0|\n",
            "|2008|         REYNOLDS CO|                   0.0|\n",
            "|2008|NALCO COMPANY-HEB...|                   0.0|\n",
            "|2008|PILGRIM'S PRIDE C...|                   0.0|\n",
            "|2008|DOLE FRESH VEGETA...|                   0.0|\n",
            "|2008|FISKE BROTHERS RE...|                   0.0|\n",
            "|2008|R&S PROCESSING CO...|                   0.0|\n",
            "|2008|GRIFFITH ENERGY -...|                   0.0|\n",
            "|2008|MOHAWK INDUSTRIES...|                   0.0|\n",
            "|2008|           ZEECO INC|                   0.0|\n",
            "|2008|AKRON DISPERSIONS...|                   0.0|\n",
            "|2008|O'CONNELL OIL NOR...|                   0.0|\n",
            "|2008|  BULLEN MIDWEST INC|                   0.0|\n",
            "|2008|PFFJ LLC--ARIZONA...|                   0.0|\n",
            "|2008|FORTERRA CONCRETE...|                   0.0|\n",
            "|2008|CARGILL ANIMAL NU...|                   0.0|\n",
            "|2008|PURINA ANIMAL NUT...|                   0.0|\n",
            "|2008|PURINA ANIMAL NUT...|                   0.0|\n",
            "|2008|CULPEPER OF ATHEN...|                   0.0|\n",
            "+----+--------------------+----------------------+\n",
            "only showing top 20 rows\n",
            "\n"
          ]
        }
      ]
    },
    {
      "cell_type": "markdown",
      "source": [],
      "metadata": {
        "id": "Y3Aj6Ab2Q7kj"
      }
    },
    {
      "cell_type": "markdown",
      "source": [
        "Facilities with minimum total releases by year"
      ],
      "metadata": {
        "id": "3V_zwgBoXYVH"
      }
    },
    {
      "cell_type": "code",
      "source": [
        "data.groupBy('YEAR', 'FACILITY_NAME').agg(sum('TOTAL_RELEASES').alias('total_releases')).orderBy(asc('total_releases')).show()"
      ],
      "metadata": {
        "colab": {
          "base_uri": "https://localhost:8080/"
        },
        "id": "L-J7m0QGUCmH",
        "outputId": "e8d3910a-2454-4a35-a38c-a5f50967574d"
      },
      "execution_count": 21,
      "outputs": [
        {
          "output_type": "stream",
          "name": "stdout",
          "text": [
            "+----+--------------------+--------------+\n",
            "|YEAR|       FACILITY_NAME|total_releases|\n",
            "+----+--------------------+--------------+\n",
            "|2008|CONTINENTAL PRODU...|           0.0|\n",
            "|2008|CHAMPLAIN CABLE CORP|           0.0|\n",
            "|2008|KENNETH LYNCH & SONS|           0.0|\n",
            "|2008|NEW FLYER OF AMERICA|           0.0|\n",
            "|2008|GREAT SOUTHERN WO...|           0.0|\n",
            "|2008|BERKSHIRE CONCRET...|           0.0|\n",
            "|2008|TATE ACCESS FLOOR...|           0.0|\n",
            "|2008|PFFJ LLC--ARIZONA...|           0.0|\n",
            "|2008|MOHAWK INDUSTRIES...|           0.0|\n",
            "|2008|     MICROPOSITE INC|           0.0|\n",
            "|2008| SPECIALTY GLASS INC|           0.0|\n",
            "|2008|RANDALL BEARINGS ...|           0.0|\n",
            "|2008|GENERAL MILLS REE...|           0.0|\n",
            "|2008|LAND O LAKES - TU...|           0.0|\n",
            "|2008|CARGILL FEED & NU...|           0.0|\n",
            "|2008|        GRAYHILL INC|           0.0|\n",
            "|2008|NORTHEAST LAMP RE...|           0.0|\n",
            "|2008|LAND O'LAKES PURI...|           0.0|\n",
            "|2008|MUNSON LAKES NUTR...|           0.0|\n",
            "|2008|HIGHLAND LAKES QU...|           0.0|\n",
            "+----+--------------------+--------------+\n",
            "only showing top 20 rows\n",
            "\n"
          ]
        }
      ]
    },
    {
      "cell_type": "markdown",
      "source": [
        "Total Production Waste by year"
      ],
      "metadata": {
        "id": "6yRfVE0lXf3M"
      }
    },
    {
      "cell_type": "code",
      "source": [
        "data.groupBy('YEAR').agg(sum('PRODUCTION_WSTE').alias('total_production_waste')).orderBy(desc('total_production_waste')).show()"
      ],
      "metadata": {
        "colab": {
          "base_uri": "https://localhost:8080/"
        },
        "id": "0A6ETkUGPnhB",
        "outputId": "49101145-fb87-4540-cdf6-80943f4ca89e"
      },
      "execution_count": 25,
      "outputs": [
        {
          "output_type": "stream",
          "name": "stdout",
          "text": [
            "+----+----------------------+\n",
            "|YEAR|total_production_waste|\n",
            "+----+----------------------+\n",
            "|2018|  3.215906341751404...|\n",
            "|2019|   3.06475580182866E10|\n",
            "|2014|  2.998790612150506E10|\n",
            "|2017|  2.950953788744012...|\n",
            "|2015|  2.946780819099611E10|\n",
            "|2021|  2.930427522588205...|\n",
            "|2016|  2.885370002029752...|\n",
            "|2022|  2.857749046232676...|\n",
            "|2020|  2.847098730909983...|\n",
            "|2013|  2.661638946172779...|\n",
            "|2012|  2.425991110931636E10|\n",
            "|2008|  2.310735180284435...|\n",
            "|2011|  2.272282366502031E10|\n",
            "|2010|  2.154781662429972E10|\n",
            "|2009|  2.046365511556098...|\n",
            "+----+----------------------+\n",
            "\n"
          ]
        }
      ]
    },
    {
      "cell_type": "markdown",
      "source": [
        "Total Releases by year"
      ],
      "metadata": {
        "id": "hQeRfksIXpGt"
      }
    },
    {
      "cell_type": "code",
      "source": [
        "data.groupBy('YEAR').agg(sum('TOTAL_RELEASES').alias('total_release')).orderBy(desc('total_release')).show()"
      ],
      "metadata": {
        "colab": {
          "base_uri": "https://localhost:8080/"
        },
        "id": "JFIpWOVBPnj-",
        "outputId": "f70b2794-f015-4e46-a592-19e601312080"
      },
      "execution_count": 24,
      "outputs": [
        {
          "output_type": "stream",
          "name": "stdout",
          "text": [
            "+----+--------------------+\n",
            "|YEAR|       total_release|\n",
            "+----+--------------------+\n",
            "|2013| 4.185433226347844E9|\n",
            "|2011| 4.150359679159177E9|\n",
            "|2014|4.0259141797093024E9|\n",
            "|2017|4.0088890121791887E9|\n",
            "|2008|3.9788797126063805E9|\n",
            "|2010|3.8503399343270884E9|\n",
            "|2018|3.7485832669114013E9|\n",
            "|2015| 3.742950712297206E9|\n",
            "|2012| 3.675292198303748E9|\n",
            "|2016|3.6108233541860924E9|\n",
            "|2009| 3.437543319089844E9|\n",
            "|2019|3.4267518495951214E9|\n",
            "|2022|3.3169193918126926E9|\n",
            "|2021| 3.270271743237934E9|\n",
            "|2020| 3.095991557198027E9|\n",
            "+----+--------------------+\n",
            "\n"
          ]
        }
      ]
    },
    {
      "cell_type": "markdown",
      "source": [
        "Filling null values in the \"ONE-TIME RELEASE\" column with 0"
      ],
      "metadata": {
        "id": "fvPz91Qae_QI"
      }
    },
    {
      "cell_type": "code",
      "source": [
        "data1 = data.fillna(0, subset=['ONE_TIME_RELEASE'])"
      ],
      "metadata": {
        "id": "o1ofm7J6cUaH"
      },
      "execution_count": 28,
      "outputs": []
    },
    {
      "cell_type": "markdown",
      "source": [
        "Creating new columns in the dataframe each concontaining the sum of the its sub columns"
      ],
      "metadata": {
        "id": "YCyB_v9vfNES"
      }
    },
    {
      "cell_type": "code",
      "source": [
        "from pyspark.sql.functions import col\n",
        "\n",
        "\n",
        "# Create new columns and calculate the sum of respective columns\n",
        "data = data1.withColumn(\"TOTAL_ENERGY_RECOVER\", col(\"ENERGY_RECOVER_ON\") + col(\"ENERGY_RECOVER_OFF\")) \\\n",
        "           .withColumn(\"TOTAL_RECYCLING\", col(\"RECYCLING_ON_SITE\") + col(\"RECYCLING_OFF_SITE\")) \\\n",
        "           .withColumn(\"TOTAL_TREATMENT\", col(\"TREATMENT_ON_SITE\") + col(\"TREATMENT_OFF_SITE\")) \\\n",
        "           .withColumn(\"TOTAL_DISPOSALS\", col(\"TOTAL_RELEASES\") + col(\"ONE_TIME_RELEASE\"))\n",
        "\n",
        "# Show the DataFrame with the new columns\n",
        "data.show(5,0)\n"
      ],
      "metadata": {
        "colab": {
          "base_uri": "https://localhost:8080/"
        },
        "id": "B4IHzcu1PnrI",
        "outputId": "6acdc5b9-7eab-4a10-f0b2-40e0767c688d"
      },
      "execution_count": 29,
      "outputs": [
        {
          "output_type": "stream",
          "name": "stdout",
          "text": [
            "+----+---------------+------------+----------------------------------------------------+----------------+---------+---------+---+-----+---+------------------------------+--------+---------+----------------+------------------------+----------------+------------------------+----------------+--------------------+---------------+-----------+-----+-----+-----+-----+-----+-------------+-------+-------+-------+-------+-------+-------------+----------------------------------------------------------------+------------------------+------------------------+--------+------+----------------------+--------------+-----+--------------------------+----------+---+----+---------+---------------+------------+---------+-----+-----------+----------------+------------------+---------+---------------+---------------+--------------+----------------+---------------+---------------+--------------+---------------------+--------------+-------------+--------------------+---+---+---+---------+---------+---+---+---+---+---+---+---+---+---+---+---+---+---+---+----------------------+---+-----+---+---+---+-----------------------+---+---+--------------------------+-------------+---+---+-------------+---+---+----------------------+------------+--------------+--------------+--------+-----------------+-------------+----------------+----------------+-----------------+------------------+-----------------+------------------+-----------------+------------------+---------------+----------------+----------------------+----------------+--------------------+---------------+---------------+---------------+\n",
            "|YEAR|TRIFD          |FRS_ID      |FACILITY_NAME                                       |STREET_ADDRESS  |CITY     |COUNTY   |ST |ZIP  |BIA|TRIBE                         |LATITUDE|LONGITUDE|HORIZONTAL_DATUM|PARENT_CO_NAME          |PARENT_CO_DB_NUM|STANDARD_PARENT_CO_NAME |FEDERAL_FACILITY|INDUSTRY_SECTOR_CODE|INDUSTRY_SECTOR|PRIMARY_SIC|SIC_2|SIC_3|SIC_4|SIC_5|SIC_6|PRIMARY_NAICS|NAICS_2|NAICS_3|NAICS_4|NAICS_5|NAICS_6|DOC_CTRL_NUM |CHEMICAL                                                        |ELEMENTAL_METAL_INCLUDED|TRI_CHEMICAL_COMPOUND_ID|CAS#    |SRS_ID|CLEAN_AIR_ACT_CHEMICAL|CLASSIFICATION|METAL|METAL_CATEGORY            |CARCINOGEN|PBT|PFAS|FORM_TYPE|UNIT_OF_MEASURE|FUGITIVE_AIR|STACK_AIR|WATER|UNDERGROUND|UNDERGROUND_CL_I|UNDERGROUND_C_II_V|LANDFILLS|RCRA_C_LANDFILL|OTHER_LANDFILLS|LAND_TREATMENT|SURFACE_IMPNDMNT|RCRA_SURFACE_IM|OTHER_SURFACE_I|OTHER_DISPOSAL|ON_SITE_RELEASE_TOTAL|POTW_TRNS_RLSE|POTW_TRNS_TRT|POTW_TOTAL_TRANSFERS|M10|M41|M62|M40_METAL|M61_METAL|M71|M81|M82|M72|M63|M66|M67|M64|M65|M73|M79|M90|M94|M99|OFF_SITE_RELEASE_TOTAL|M20|M24  |M26|M28|M93|OFF_SITE_RECYCLED_TOTAL|M56|M92|OFF_SITE_ENERGY_RECOVERY_T|M40_NON_METAL|M50|M54|M61_NON_METAL|M69|M95|OFF_SITE_TREATED_TOTAL|UNCLASSIFIED|TOTAL_TRANSFER|TOTAL_RELEASES|RELEASES|ON_SITE_CONTAINED|ON_SITE_OTHER|OFF_SITE_CONTAIN|OFF_SITE_OTHER_R|ENERGY_RECOVER_ON|ENERGY_RECOVER_OFF|RECYCLING_ON_SITE|RECYCLING_OFF_SITE|TREATMENT_ON_SITE|TREATMENT_OFF_SITE|PRODUCTION_WSTE|ONE_TIME_RELEASE|PROD_RATIO_OR_ACTIVITY|PRODUCTION_RATIO|TOTAL_ENERGY_RECOVER|TOTAL_RECYCLING|TOTAL_TREATMENT|TOTAL_DISPOSALS|\n",
            "+----+---------------+------------+----------------------------------------------------+----------------+---------+---------+---+-----+---+------------------------------+--------+---------+----------------+------------------------+----------------+------------------------+----------------+--------------------+---------------+-----------+-----+-----+-----+-----+-----+-------------+-------+-------+-------+-------+-------+-------------+----------------------------------------------------------------+------------------------+------------------------+--------+------+----------------------+--------------+-----+--------------------------+----------+---+----+---------+---------------+------------+---------+-----+-----------+----------------+------------------+---------+---------------+---------------+--------------+----------------+---------------+---------------+--------------+---------------------+--------------+-------------+--------------------+---+---+---+---------+---------+---+---+---+---+---+---+---+---+---+---+---+---+---+---+----------------------+---+-----+---+---+---+-----------------------+---+---+--------------------------+-------------+---+---+-------------+---+---+----------------------+------------+--------------+--------------+--------+-----------------+-------------+----------------+----------------+-----------------+------------------+-----------------+------------------+-----------------+------------------+---------------+----------------+----------------------+----------------+--------------------+---------------+---------------+---------------+\n",
            "|2008|73098KRRMC906SO|110000453697|WYNNEWOOD REFINING CO                               |906 S POWELL AVE|WYNNEWOOD|GARVIN   |OK |73098|906|The Chickasaw Nation          |34.6289 |-97.1685 |NAD83           |CVR ENERGY INC          |795416135       |CVR ENERGY INC          |NO              |324                 |Petroleum      |NULL       |NULL |NULL |NULL |NULL |NULL |324110       |NULL   |NULL   |NULL   |NULL   |NULL   |1308206653394|1,3-Butadiene                                                   |NO                      |0000106990              |106-99-0|24042 |YES                   |TRI           |NO   |Non_Metal                 |YES       |NO |NO  |R        |Pounds         |48.0        |110.0    |0.0  |0.0        |0.0             |0.0               |0.0      |0.0            |0.0            |0.0           |0.0             |0.0            |0.0            |0.0           |158.0                |0.0           |0.0          |0.0                 |0.0|0.0|0.0|0.0      |0.0      |0.0|0.0|0.0|0.0|0.0|0.0|0.0|0.0|0.0|0.0|0.0|0.0|0.0|0.0|0.0                   |0.0|0.0  |0.0|0.0|0.0|0.0                    |0.0|0.0|0.0                       |0.0          |0.0|0.0|0.0          |0.0|0.0|0.0                   |0.0         |0.0           |158.0         |0.0     |0.0              |158.0        |0.0             |0.0             |380000.0         |0.0               |0.0              |0.0               |3400.0           |0.0               |383558.0       |0.0             |NULL                  |1.02            |380000.0            |0.0            |3400.0         |158.0          |\n",
            "|2008|74501MCLSTHWY69|110000455702|US ARMY MCALESTER ARMY AMMUNITION PLANT             |1 C TREE RD     |MCALESTER|PITTSBURG|OK |74501|907|The Choctaw Nation of Oklahoma|34.845  |-95.893  |NAD83           |US DEPARTMENT OF DEFENSE|020716163       |US DEPARTMENT OF DEFENSE|YES             |999                 |Other          |NULL       |NULL |NULL |NULL |NULL |NULL |928110       |NULL   |NULL   |NULL   |NULL   |NULL   |1308206326377|Nitroglycerin                                                   |NO                      |0000055630              |55-63-0 |1941  |NO                    |TRI           |NO   |Non_Metal                 |NO        |NO |NO  |R        |Pounds         |0.0         |0.0      |0.0  |0.0        |0.0             |0.0               |0.0      |0.0            |0.0            |0.0           |0.0             |0.0            |0.0            |0.0           |0.0                  |0.0           |0.0          |0.0                 |0.0|0.0|0.0|0.0      |0.0      |0.0|0.0|0.0|0.0|0.0|0.0|0.0|0.0|0.0|0.0|0.0|0.0|0.0|0.0|0.0                   |0.0|0.0  |0.0|0.0|0.0|0.0                    |0.0|0.0|0.0                       |0.0          |0.0|0.0|0.0          |0.0|0.0|0.0                   |0.0         |0.0           |0.0           |0.0     |0.0              |0.0          |0.0             |0.0             |0.0              |0.0               |0.0              |0.0               |48190.0          |0.0               |48190.0        |0.0             |NULL                  |NULL            |0.0                 |0.0            |48190.0        |0.0            |\n",
            "|2008|74764WYRHSHIGHW|110000598639|INTERNATIONAL PAPER CO                              |890 IP LN       |VALLIANT |MCCURTAIN|OK |74764|907|The Choctaw Nation of Oklahoma|33.9984 |-95.1115 |NAD83           |INTERNATIONAL PAPER CO  |001316561       |INTERNATIONAL PAPER CO  |NO              |322                 |Paper          |NULL       |NULL |NULL |NULL |NULL |NULL |322130       |322110 |NULL   |NULL   |NULL   |NULL   |1308206869289|Barium compounds (except for barium sulfate (CAS No. 7727-43-7))|NO                      |N040                    |N040    |649426|NO                    |TRI           |NO   |Metal complound categories|NO        |NO |NO  |R        |Pounds         |0.0         |3924.0   |0.0  |0.0        |0.0             |0.0               |0.0      |0.0            |16002.0        |0.0           |0.0             |0.0            |12479.0        |0.0           |32405.0              |0.0           |0.0          |0.0                 |0.0|0.0|0.0|0.0      |0.0      |0.0|0.0|0.0|0.0|0.0|0.0|0.0|0.0|0.0|0.0|0.0|0.0|0.0|0.0|0.0                   |0.0|0.0  |0.0|0.0|0.0|0.0                    |0.0|0.0|0.0                       |0.0          |0.0|0.0|0.0          |0.0|0.0|0.0                   |0.0         |0.0           |32405.0       |0.0     |16002.0          |16403.0      |0.0             |0.0             |0.0              |0.0               |0.0              |0.0               |0.0              |0.0               |32405.0        |0.0             |NULL                  |94.95           |0.0                 |0.0            |0.0            |32405.0        |\n",
            "|2008|73401TTLPTHIGHW|110000606746|VALERO REFINING CO -OKLAHOMA VALERO ARDMORE REFINERY|ONE VALERO WAY  |ARDMORE  |CARTER   |OK |73401|906|The Chickasaw Nation          |34.20569|-97.10417|NAD83           |VALERO ENERGY CORP      |NA              |VALERO ENERGY CORP      |NO              |324                 |Petroleum      |NULL       |NULL |NULL |NULL |NULL |NULL |324110       |NULL   |NULL   |NULL   |NULL   |NULL   |1308206658369|Carbon disulfide                                                |NO                      |0000075150              |75-15-0 |5348  |YES                   |TRI           |NO   |Non_Metal                 |NO        |NO |NO  |R        |Pounds         |0.0         |434.6    |0.0  |0.0        |0.0             |0.0               |0.0      |0.0            |0.0            |0.0           |0.0             |0.0            |0.0            |0.0           |434.6                |0.0           |0.0          |0.0                 |0.0|0.0|0.0|0.0      |0.0      |0.0|0.0|0.0|0.0|0.0|0.0|0.0|0.0|0.0|0.0|0.0|0.0|0.0|0.0|0.0                   |0.0|0.0  |0.0|0.0|0.0|0.0                    |0.0|0.0|0.0                       |0.0          |0.0|0.0|0.0          |0.0|0.0|0.0                   |0.0         |0.0           |434.6         |0.0     |0.0              |434.6        |0.0             |0.0             |0.0              |0.0               |0.0              |0.0               |1752936.0        |0.0               |1753370.6      |0.0             |NULL                  |NULL            |0.0                 |0.0            |1752936.0      |434.6          |\n",
            "|2008|74764WYRHSHIGHW|110000598639|INTERNATIONAL PAPER CO                              |890 IP LN       |VALLIANT |MCCURTAIN|OK |74764|907|The Choctaw Nation of Oklahoma|33.9984 |-95.1115 |NAD83           |INTERNATIONAL PAPER CO  |001316561       |INTERNATIONAL PAPER CO  |NO              |322                 |Paper          |NULL       |NULL |NULL |NULL |NULL |NULL |322130       |322110 |NULL   |NULL   |NULL   |NULL   |1308206869341|Lead compounds                                                  |NO                      |N420                    |N420    |650002|YES                   |PBT           |YES  |Metal complound categories|NO        |YES|NO  |R        |Pounds         |0.0         |654.0    |212.0|0.0        |0.0             |0.0               |0.0      |0.0            |1394.5         |0.0           |0.0             |0.0            |548.7          |0.0           |2809.2               |0.0           |0.0          |0.0                 |0.0|0.0|0.0|0.0      |0.0      |0.0|0.0|0.0|0.0|0.0|0.0|0.0|0.0|0.0|0.0|0.0|0.0|0.0|0.0|0.0                   |0.0|600.0|0.0|0.0|0.0|600.0                  |0.0|0.0|0.0                       |0.0          |0.0|0.0|0.0          |0.0|0.0|0.0                   |0.0         |600.0         |2809.2        |0.0     |1394.5           |1414.7       |0.0             |0.0             |0.0              |0.0               |0.0              |600.0             |0.0              |0.0               |3409.2         |0.0             |NULL                  |94.95           |0.0                 |600.0          |0.0            |2809.2         |\n",
            "+----+---------------+------------+----------------------------------------------------+----------------+---------+---------+---+-----+---+------------------------------+--------+---------+----------------+------------------------+----------------+------------------------+----------------+--------------------+---------------+-----------+-----+-----+-----+-----+-----+-------------+-------+-------+-------+-------+-------+-------------+----------------------------------------------------------------+------------------------+------------------------+--------+------+----------------------+--------------+-----+--------------------------+----------+---+----+---------+---------------+------------+---------+-----+-----------+----------------+------------------+---------+---------------+---------------+--------------+----------------+---------------+---------------+--------------+---------------------+--------------+-------------+--------------------+---+---+---+---------+---------+---+---+---+---+---+---+---+---+---+---+---+---+---+---+----------------------+---+-----+---+---+---+-----------------------+---+---+--------------------------+-------------+---+---+-------------+---+---+----------------------+------------+--------------+--------------+--------+-----------------+-------------+----------------+----------------+-----------------+------------------+-----------------+------------------+-----------------+------------------+---------------+----------------+----------------------+----------------+--------------------+---------------+---------------+---------------+\n",
            "only showing top 5 rows\n",
            "\n"
          ]
        }
      ]
    },
    {
      "cell_type": "markdown",
      "source": [
        "Total Engery reovery by year"
      ],
      "metadata": {
        "id": "c44KnqptfoAB"
      }
    },
    {
      "cell_type": "code",
      "source": [
        "data.groupBy('YEAR').agg(sum('TOTAL_ENERGY_RECOVER').alias('total_energy_recovery')).orderBy(desc('total_energy_recovery')).show()"
      ],
      "metadata": {
        "colab": {
          "base_uri": "https://localhost:8080/"
        },
        "id": "y2aWxaegPnuq",
        "outputId": "ab367302-6bbf-42f8-b78c-2ed1a21face0"
      },
      "execution_count": 30,
      "outputs": [
        {
          "output_type": "stream",
          "name": "stdout",
          "text": [
            "+----+---------------------+\n",
            "|YEAR|total_energy_recovery|\n",
            "+----+---------------------+\n",
            "|2014|  3.137641519145215E9|\n",
            "|2018| 3.1205299520957212E9|\n",
            "|2021| 3.0079012634778223E9|\n",
            "|2019| 2.9909163269312716E9|\n",
            "|2015|  2.987834759638371E9|\n",
            "|2017|   2.98057798675807E9|\n",
            "|2016| 2.9711866489640484E9|\n",
            "|2022| 2.9186294048348727E9|\n",
            "|2020|  2.868968503417989E9|\n",
            "|2013|   2.72734219810114E9|\n",
            "|2008|  2.679160260640836E9|\n",
            "|2012|  2.670361592787004E9|\n",
            "|2011|  2.465640782221325E9|\n",
            "|2010| 2.4116884794522495E9|\n",
            "|2009|  2.236504826095155E9|\n",
            "+----+---------------------+\n",
            "\n"
          ]
        }
      ]
    },
    {
      "cell_type": "code",
      "source": [
        "data.groupBy('FACILITY_NAME').agg(sum('TOTAL_ENERGY_RECOVER').alias('total_energy_recovery')).orderBy(desc('total_energy_recovery')).show()"
      ],
      "metadata": {
        "colab": {
          "base_uri": "https://localhost:8080/"
        },
        "id": "h_rAgcBH1oee",
        "outputId": "785352b5-ea59-4171-e3c2-bd8a225323ac"
      },
      "execution_count": 31,
      "outputs": [
        {
          "output_type": "stream",
          "name": "stdout",
          "text": [
            "+--------------------+---------------------+\n",
            "|       FACILITY_NAME|total_energy_recovery|\n",
            "+--------------------+---------------------+\n",
            "|HUNTSMAN PETROCHE...| 1.5987884855870004E9|\n",
            "|BUZZI UNICEM USA-...|     1.337498118154E9|\n",
            "|MOTIVA-PORT ARTHU...|        1.197636683E9|\n",
            "|FORMOSA PLASTICS ...|      1.13231980633E9|\n",
            "|  USS-CLAIRTON PLANT|        1.132013181E9|\n",
            "|LYONDELL CHEMICAL CO|  8.972080815466001E8|\n",
            "|    BIG WEST OIL LLC|        8.473212709E8|\n",
            "|OQ CHEMICALS CORP...|  8.030364581232871E8|\n",
            "|MARATHON PETROLEU...|       7.7831831684E8|\n",
            "|JEFFERSON TERMINA...|       7.5506648424E8|\n",
            "|ECO SERVICES OPER...|  7.056100398339999E8|\n",
            "|DOW CHEMICAL CO F...|      6.87962157046E8|\n",
            "|HOLCIM (US) (INCL...|       6.3974517264E8|\n",
            "|HEIDELBERG MATERI...|       5.9076754663E8|\n",
            "|WYNNEWOOD REFININ...|  5.852079706980001E8|\n",
            "|MOTIVA - PORT ART...|         5.17151452E8|\n",
            "|INV NYLON CHEMICA...|           5.109804E8|\n",
            "|PREMCOR REFINING ...|        4.911170324E8|\n",
            "|CHEMTRADE SOLUTIO...|         4.73164244E8|\n",
            "|           BASF CORP|       4.7149950843E8|\n",
            "+--------------------+---------------------+\n",
            "only showing top 20 rows\n",
            "\n"
          ]
        }
      ]
    },
    {
      "cell_type": "markdown",
      "source": [
        "Total Recycling by year"
      ],
      "metadata": {
        "id": "OiBAvBOjfuN5"
      }
    },
    {
      "cell_type": "code",
      "source": [
        "data.groupBy('YEAR').agg(sum('TOTAL_RECYCLING').alias('total_recycling')).orderBy(desc('total_recycling')).show()"
      ],
      "metadata": {
        "colab": {
          "base_uri": "https://localhost:8080/"
        },
        "id": "rpZq00DuPnw9",
        "outputId": "e1dc1524-3b7d-4abc-d528-1134f450a5e8"
      },
      "execution_count": 32,
      "outputs": [
        {
          "output_type": "stream",
          "name": "stdout",
          "text": [
            "+----+--------------------+\n",
            "|YEAR|     total_recycling|\n",
            "+----+--------------------+\n",
            "|2018|1.664023139897899E10|\n",
            "|2019|1.590085125925090...|\n",
            "|2020|1.506667991192252...|\n",
            "|2021|1.495262059629404...|\n",
            "|2022|1.457897431101927E10|\n",
            "|2014|1.412890349915272...|\n",
            "|2017|1.383578724774903...|\n",
            "|2015|1.364694660615124...|\n",
            "|2016|1.353804148676350...|\n",
            "|2013|1.108175315216566...|\n",
            "|2012| 9.208920501082432E9|\n",
            "|2008|  8.94135073799782E9|\n",
            "|2011| 8.663021460572811E9|\n",
            "|2010|  7.85224579308823E9|\n",
            "|2009| 7.789739150138208E9|\n",
            "+----+--------------------+\n",
            "\n"
          ]
        }
      ]
    },
    {
      "cell_type": "code",
      "source": [
        "data.groupBy('FACILITY_NAME').agg(sum('TOTAL_RECYCLING').alias('total_recycling')).orderBy(desc('total_recycling')).show()"
      ],
      "metadata": {
        "colab": {
          "base_uri": "https://localhost:8080/"
        },
        "id": "r9sysg-G1zYj",
        "outputId": "15f191be-81c2-4129-dd91-1f71e0d17058"
      },
      "execution_count": 33,
      "outputs": [
        {
          "output_type": "stream",
          "name": "stdout",
          "text": [
            "+--------------------+--------------------+\n",
            "|       FACILITY_NAME|     total_recycling|\n",
            "+--------------------+--------------------+\n",
            "|ADVANSIX RESINS &...|     3.2307302959E10|\n",
            "|SABIC INNOVATIVE ...|1.586758095158500...|\n",
            "|INCOBRASA INDUSTR...|     1.3185645857E10|\n",
            "|SABIC INNOVATIVE ...|     9.16789574846E9|\n",
            "|SYNGENTA CROP PRO...|       6.750592331E9|\n",
            "|HONEYWELL INTERNA...|     4.64887046666E9|\n",
            "|    US MAGNESIUM LLC|       3.698053491E9|\n",
            "|ASHLAND SPECIALTY...|       2.306523546E9|\n",
            "|NORTH AMERICAN ST...|     1.79787071139E9|\n",
            "|         KENSING LLC|     1.54189127103E9|\n",
            "|   WESTLAKE US 2 LLC|     1.52977982013E9|\n",
            "|ZEON CHEMICALS LP...|       1.457786291E9|\n",
            "|FORTRON INDUSTRIE...|       1.424704937E9|\n",
            "|SHELL NORCO CHEMI...|   1.3949088770807E9|\n",
            "|INEOS BATTLEGROUN...|     1.28310886001E9|\n",
            "|NAN YA PLASTICS C...|     1.27391189972E9|\n",
            "| AURUBIS BUFFALO INC|     1.20821954638E9|\n",
            "|       TPC GROUP LLC|       1.180073427E9|\n",
            "|FIRESTONE POLYMER...|       1.094678543E9|\n",
            "|LUBRIZOL ADVANCED...|       1.003058429E9|\n",
            "+--------------------+--------------------+\n",
            "only showing top 20 rows\n",
            "\n"
          ]
        }
      ]
    },
    {
      "cell_type": "markdown",
      "source": [
        "Total Treatment by year"
      ],
      "metadata": {
        "id": "C74JYIyrf3Cz"
      }
    },
    {
      "cell_type": "code",
      "source": [
        "data.groupBy('YEAR').agg(sum('TOTAL_TREATMENT').alias('total_treatment')).orderBy(desc('total_treatment')).show()"
      ],
      "metadata": {
        "colab": {
          "base_uri": "https://localhost:8080/"
        },
        "id": "7_SvKt--PnzO",
        "outputId": "9d222fcc-209c-48a8-cc36-a510f9a0aca6"
      },
      "execution_count": 34,
      "outputs": [
        {
          "output_type": "stream",
          "name": "stdout",
          "text": [
            "+----+-------------------+\n",
            "|YEAR|    total_treatment|\n",
            "+----+-------------------+\n",
            "|2015|9.104907793391502E9|\n",
            "|2013|8.802930267437046E9|\n",
            "|2016|8.739662895170937E9|\n",
            "|2014|8.704757971960152E9|\n",
            "|2012| 8.69736962086837E9|\n",
            "|2017|8.693296451994581E9|\n",
            "|2018| 8.65469906293795E9|\n",
            "|2019|8.333868407162554E9|\n",
            "|2021|8.109816377238657E9|\n",
            "|2022|7.778361986765473E9|\n",
            "|2008| 7.50663904366638E9|\n",
            "|2020|7.442956528378216E9|\n",
            "|2011|7.431313986009928E9|\n",
            "|2010|7.422963109446992E9|\n",
            "|2009|6.983655705861984E9|\n",
            "+----+-------------------+\n",
            "\n"
          ]
        }
      ]
    },
    {
      "cell_type": "code",
      "source": [
        "data.groupBy('FACILITY_NAME').agg(sum('TOTAL_TREATMENT').alias('total_treatment')).orderBy(desc('total_treatment')).show()"
      ],
      "metadata": {
        "colab": {
          "base_uri": "https://localhost:8080/"
        },
        "id": "7_pyT97AWy-5",
        "outputId": "74920f81-bd7f-4195-8b2b-508fad78fbd3"
      },
      "execution_count": 37,
      "outputs": [
        {
          "output_type": "stream",
          "name": "stdout",
          "text": [
            "+--------------------+--------------------+\n",
            "|       FACILITY_NAME|     total_treatment|\n",
            "+--------------------+--------------------+\n",
            "|     THE CHEMOURS CO|3.8075988255660105E9|\n",
            "|DELAWARE CITY REF...|3.1814735638218207E9|\n",
            "|OCCIDENTAL CHEMIC...| 1.631953855130607E9|\n",
            "|ST CHARLES OPERAT...|1.5160526509038348E9|\n",
            "|THE DOW CHEMICAL ...|1.4984953453275404E9|\n",
            "|DOW CHEMICAL CO F...|1.4174924118976395E9|\n",
            "|BASF CORP - FREEP...|       1.300299359E9|\n",
            "|FORMOSA PLASTICS ...|1.1798610601183937E9|\n",
            "|OXY VINYLS LP DEE...|1.0403484284398702E9|\n",
            "|DOW SABINE RIVER ...|1.0303955472460496E9|\n",
            "|WESTLAKE CHEMICAL...| 9.519564096468601E8|\n",
            "|  WESTLAKE VINYLS CO| 9.191856831757782E8|\n",
            "|ARKEMA INC CLEAR ...|     9.04107967597E8|\n",
            "|    US MAGNESIUM LLC|  9.02087564999331E8|\n",
            "|COFFEYVILLE RESOU...|       8.516179084E8|\n",
            "|     GAVIN POWER LLC|        7.96474646E8|\n",
            "|CLEAN HARBORS DEE...|  7.65744319119069E8|\n",
            "|SHELL NORCO CHEMI...|    7.539671575727E8|\n",
            "|OXY VINYLS LP LA ...| 7.163033186671991E8|\n",
            "|INV NYLON CHEMICA...|        6.54543312E8|\n",
            "+--------------------+--------------------+\n",
            "only showing top 20 rows\n",
            "\n"
          ]
        }
      ]
    },
    {
      "cell_type": "markdown",
      "source": [
        "Total Disposals by year"
      ],
      "metadata": {
        "id": "m5dwOfU8f6WI"
      }
    },
    {
      "cell_type": "code",
      "source": [
        "data.groupBy('YEAR').agg(sum('TOTAL_DISPOSALS').alias('total_disposals')).orderBy(desc('total_disposals')).show()"
      ],
      "metadata": {
        "colab": {
          "base_uri": "https://localhost:8080/"
        },
        "id": "ATTraiPuPn2C",
        "outputId": "f5bfe63e-29ae-488d-f648-e9a44eabf201"
      },
      "execution_count": 35,
      "outputs": [
        {
          "output_type": "stream",
          "name": "stdout",
          "text": [
            "+----+--------------------+\n",
            "|YEAR|     total_disposals|\n",
            "+----+--------------------+\n",
            "|2013| 4.389317907197339E9|\n",
            "|2011|4.1649440196971407E9|\n",
            "|2014| 4.039713034265948E9|\n",
            "|2017| 4.022469165982856E9|\n",
            "|2008|4.0127164239826736E9|\n",
            "|2010| 3.863673982296255E9|\n",
            "|2015| 3.760352373867341E9|\n",
            "|2018|3.7564403495143814E9|\n",
            "|2012|3.6895905182801466E9|\n",
            "|2016| 3.625043588901455E9|\n",
            "|2009|3.4484897894960184E9|\n",
            "|2019| 3.434124866264098E9|\n",
            "|2022| 3.335326336623211E9|\n",
            "|2021|  3.30906257512558E9|\n",
            "|2020|3.1034969904176216E9|\n",
            "+----+--------------------+\n",
            "\n"
          ]
        }
      ]
    },
    {
      "cell_type": "code",
      "source": [
        "data.groupBy('FACILITY_NAME').agg(sum('TOTAL_DISPOSALS').alias('total_disposals')).orderBy(desc('total_disposals')).show()"
      ],
      "metadata": {
        "colab": {
          "base_uri": "https://localhost:8080/"
        },
        "id": "Vp2PHHk7Wkg5",
        "outputId": "be6f42d4-bb4b-45d5-c4ac-cb06c06373ba"
      },
      "execution_count": 36,
      "outputs": [
        {
          "output_type": "stream",
          "name": "stdout",
          "text": [
            "+--------------------+--------------------+\n",
            "|       FACILITY_NAME|     total_disposals|\n",
            "+--------------------+--------------------+\n",
            "|  RED DOG OPERATIONS|1.164553980431191...|\n",
            "|KENNECOTT UTAH CO...|2.5056435391859875E9|\n",
            "|NEVADA GOLD MINES...|1.2370791666561818E9|\n",
            "|NEWMONT GOLDCORP ...|     1.19208414731E9|\n",
            "|HECLA GREENS CREE...| 7.898033236499999E8|\n",
            "|NEVADA GOLD MINES...| 7.199097565445942E8|\n",
            "|NEVADA GOLD MINES...|      6.4334398362E8|\n",
            "|NEVADA GOLD MINES...| 4.569392934499999E8|\n",
            "|KENNECOTT UTAH CO...| 4.282137758142559E8|\n",
            "|MONTANA RESOURCES...|    4.193485754648E8|\n",
            "|ASCEND PERFORMANC...|4.0621615065739995E8|\n",
            "|KENNECOTT BARNEYS...|3.8607702625918996E8|\n",
            "|BASIN ELECTRIC AN...|  3.66298744226562E8|\n",
            "|FREEPORT-MCMORAN ...| 3.610948317293091E8|\n",
            "|ASCEND PERFORMANC...|3.5514852224600005E8|\n",
            "|ASARCO LLC RAY CO...|3.2761639059788007E8|\n",
            "|      USS GARY WORKS|  3.03899729080458E8|\n",
            "|ROBINSON NEVADA M...|       2.770248017E8|\n",
            "|NEWMONT GOLDCORP ...|2.7437543710999995E8|\n",
            "|BAYER CROPSCIENCE LP|2.6684446782730195E8|\n",
            "+--------------------+--------------------+\n",
            "only showing top 20 rows\n",
            "\n"
          ]
        }
      ]
    },
    {
      "cell_type": "code",
      "source": [
        "from pyspark.sql.functions import when\n",
        "for column in [\"CLEAN_AIR_ACT_CHEMICAL\", \"CARCINOGEN\", \"PBT\", \"PFAS\"]:\n",
        "    data = data.withColumn(f\"converted_{column}\", when(data[column] == \"YES\", 1).otherwise(0))\n",
        "\n",
        "# Show the DataFrame with the converted columns\n",
        "data.show(5,0)\n"
      ],
      "metadata": {
        "colab": {
          "base_uri": "https://localhost:8080/"
        },
        "id": "Cma2M9Vlo7_f",
        "outputId": "6d6a106e-f36f-471b-d5a7-6662ba90275d"
      },
      "execution_count": 38,
      "outputs": [
        {
          "output_type": "stream",
          "name": "stdout",
          "text": [
            "+----+---------------+------------+----------------------------------------------------+----------------+---------+---------+---+-----+---+------------------------------+--------+---------+----------------+------------------------+----------------+------------------------+----------------+--------------------+---------------+-----------+-----+-----+-----+-----+-----+-------------+-------+-------+-------+-------+-------+-------------+----------------------------------------------------------------+------------------------+------------------------+--------+------+----------------------+--------------+-----+--------------------------+----------+---+----+---------+---------------+------------+---------+-----+-----------+----------------+------------------+---------+---------------+---------------+--------------+----------------+---------------+---------------+--------------+---------------------+--------------+-------------+--------------------+---+---+---+---------+---------+---+---+---+---+---+---+---+---+---+---+---+---+---+---+----------------------+---+-----+---+---+---+-----------------------+---+---+--------------------------+-------------+---+---+-------------+---+---+----------------------+------------+--------------+--------------+--------+-----------------+-------------+----------------+----------------+-----------------+------------------+-----------------+------------------+-----------------+------------------+---------------+----------------+----------------------+----------------+--------------------+---------------+---------------+---------------+--------------------------------+--------------------+-------------+--------------+\n",
            "|YEAR|TRIFD          |FRS_ID      |FACILITY_NAME                                       |STREET_ADDRESS  |CITY     |COUNTY   |ST |ZIP  |BIA|TRIBE                         |LATITUDE|LONGITUDE|HORIZONTAL_DATUM|PARENT_CO_NAME          |PARENT_CO_DB_NUM|STANDARD_PARENT_CO_NAME |FEDERAL_FACILITY|INDUSTRY_SECTOR_CODE|INDUSTRY_SECTOR|PRIMARY_SIC|SIC_2|SIC_3|SIC_4|SIC_5|SIC_6|PRIMARY_NAICS|NAICS_2|NAICS_3|NAICS_4|NAICS_5|NAICS_6|DOC_CTRL_NUM |CHEMICAL                                                        |ELEMENTAL_METAL_INCLUDED|TRI_CHEMICAL_COMPOUND_ID|CAS#    |SRS_ID|CLEAN_AIR_ACT_CHEMICAL|CLASSIFICATION|METAL|METAL_CATEGORY            |CARCINOGEN|PBT|PFAS|FORM_TYPE|UNIT_OF_MEASURE|FUGITIVE_AIR|STACK_AIR|WATER|UNDERGROUND|UNDERGROUND_CL_I|UNDERGROUND_C_II_V|LANDFILLS|RCRA_C_LANDFILL|OTHER_LANDFILLS|LAND_TREATMENT|SURFACE_IMPNDMNT|RCRA_SURFACE_IM|OTHER_SURFACE_I|OTHER_DISPOSAL|ON_SITE_RELEASE_TOTAL|POTW_TRNS_RLSE|POTW_TRNS_TRT|POTW_TOTAL_TRANSFERS|M10|M41|M62|M40_METAL|M61_METAL|M71|M81|M82|M72|M63|M66|M67|M64|M65|M73|M79|M90|M94|M99|OFF_SITE_RELEASE_TOTAL|M20|M24  |M26|M28|M93|OFF_SITE_RECYCLED_TOTAL|M56|M92|OFF_SITE_ENERGY_RECOVERY_T|M40_NON_METAL|M50|M54|M61_NON_METAL|M69|M95|OFF_SITE_TREATED_TOTAL|UNCLASSIFIED|TOTAL_TRANSFER|TOTAL_RELEASES|RELEASES|ON_SITE_CONTAINED|ON_SITE_OTHER|OFF_SITE_CONTAIN|OFF_SITE_OTHER_R|ENERGY_RECOVER_ON|ENERGY_RECOVER_OFF|RECYCLING_ON_SITE|RECYCLING_OFF_SITE|TREATMENT_ON_SITE|TREATMENT_OFF_SITE|PRODUCTION_WSTE|ONE_TIME_RELEASE|PROD_RATIO_OR_ACTIVITY|PRODUCTION_RATIO|TOTAL_ENERGY_RECOVER|TOTAL_RECYCLING|TOTAL_TREATMENT|TOTAL_DISPOSALS|converted_CLEAN_AIR_ACT_CHEMICAL|converted_CARCINOGEN|converted_PBT|converted_PFAS|\n",
            "+----+---------------+------------+----------------------------------------------------+----------------+---------+---------+---+-----+---+------------------------------+--------+---------+----------------+------------------------+----------------+------------------------+----------------+--------------------+---------------+-----------+-----+-----+-----+-----+-----+-------------+-------+-------+-------+-------+-------+-------------+----------------------------------------------------------------+------------------------+------------------------+--------+------+----------------------+--------------+-----+--------------------------+----------+---+----+---------+---------------+------------+---------+-----+-----------+----------------+------------------+---------+---------------+---------------+--------------+----------------+---------------+---------------+--------------+---------------------+--------------+-------------+--------------------+---+---+---+---------+---------+---+---+---+---+---+---+---+---+---+---+---+---+---+---+----------------------+---+-----+---+---+---+-----------------------+---+---+--------------------------+-------------+---+---+-------------+---+---+----------------------+------------+--------------+--------------+--------+-----------------+-------------+----------------+----------------+-----------------+------------------+-----------------+------------------+-----------------+------------------+---------------+----------------+----------------------+----------------+--------------------+---------------+---------------+---------------+--------------------------------+--------------------+-------------+--------------+\n",
            "|2008|73098KRRMC906SO|110000453697|WYNNEWOOD REFINING CO                               |906 S POWELL AVE|WYNNEWOOD|GARVIN   |OK |73098|906|The Chickasaw Nation          |34.6289 |-97.1685 |NAD83           |CVR ENERGY INC          |795416135       |CVR ENERGY INC          |NO              |324                 |Petroleum      |NULL       |NULL |NULL |NULL |NULL |NULL |324110       |NULL   |NULL   |NULL   |NULL   |NULL   |1308206653394|1,3-Butadiene                                                   |NO                      |0000106990              |106-99-0|24042 |YES                   |TRI           |NO   |Non_Metal                 |YES       |NO |NO  |R        |Pounds         |48.0        |110.0    |0.0  |0.0        |0.0             |0.0               |0.0      |0.0            |0.0            |0.0           |0.0             |0.0            |0.0            |0.0           |158.0                |0.0           |0.0          |0.0                 |0.0|0.0|0.0|0.0      |0.0      |0.0|0.0|0.0|0.0|0.0|0.0|0.0|0.0|0.0|0.0|0.0|0.0|0.0|0.0|0.0                   |0.0|0.0  |0.0|0.0|0.0|0.0                    |0.0|0.0|0.0                       |0.0          |0.0|0.0|0.0          |0.0|0.0|0.0                   |0.0         |0.0           |158.0         |0.0     |0.0              |158.0        |0.0             |0.0             |380000.0         |0.0               |0.0              |0.0               |3400.0           |0.0               |383558.0       |0.0             |NULL                  |1.02            |380000.0            |0.0            |3400.0         |158.0          |1                               |1                   |0            |0             |\n",
            "|2008|74501MCLSTHWY69|110000455702|US ARMY MCALESTER ARMY AMMUNITION PLANT             |1 C TREE RD     |MCALESTER|PITTSBURG|OK |74501|907|The Choctaw Nation of Oklahoma|34.845  |-95.893  |NAD83           |US DEPARTMENT OF DEFENSE|020716163       |US DEPARTMENT OF DEFENSE|YES             |999                 |Other          |NULL       |NULL |NULL |NULL |NULL |NULL |928110       |NULL   |NULL   |NULL   |NULL   |NULL   |1308206326377|Nitroglycerin                                                   |NO                      |0000055630              |55-63-0 |1941  |NO                    |TRI           |NO   |Non_Metal                 |NO        |NO |NO  |R        |Pounds         |0.0         |0.0      |0.0  |0.0        |0.0             |0.0               |0.0      |0.0            |0.0            |0.0           |0.0             |0.0            |0.0            |0.0           |0.0                  |0.0           |0.0          |0.0                 |0.0|0.0|0.0|0.0      |0.0      |0.0|0.0|0.0|0.0|0.0|0.0|0.0|0.0|0.0|0.0|0.0|0.0|0.0|0.0|0.0                   |0.0|0.0  |0.0|0.0|0.0|0.0                    |0.0|0.0|0.0                       |0.0          |0.0|0.0|0.0          |0.0|0.0|0.0                   |0.0         |0.0           |0.0           |0.0     |0.0              |0.0          |0.0             |0.0             |0.0              |0.0               |0.0              |0.0               |48190.0          |0.0               |48190.0        |0.0             |NULL                  |NULL            |0.0                 |0.0            |48190.0        |0.0            |0                               |0                   |0            |0             |\n",
            "|2008|74764WYRHSHIGHW|110000598639|INTERNATIONAL PAPER CO                              |890 IP LN       |VALLIANT |MCCURTAIN|OK |74764|907|The Choctaw Nation of Oklahoma|33.9984 |-95.1115 |NAD83           |INTERNATIONAL PAPER CO  |001316561       |INTERNATIONAL PAPER CO  |NO              |322                 |Paper          |NULL       |NULL |NULL |NULL |NULL |NULL |322130       |322110 |NULL   |NULL   |NULL   |NULL   |1308206869289|Barium compounds (except for barium sulfate (CAS No. 7727-43-7))|NO                      |N040                    |N040    |649426|NO                    |TRI           |NO   |Metal complound categories|NO        |NO |NO  |R        |Pounds         |0.0         |3924.0   |0.0  |0.0        |0.0             |0.0               |0.0      |0.0            |16002.0        |0.0           |0.0             |0.0            |12479.0        |0.0           |32405.0              |0.0           |0.0          |0.0                 |0.0|0.0|0.0|0.0      |0.0      |0.0|0.0|0.0|0.0|0.0|0.0|0.0|0.0|0.0|0.0|0.0|0.0|0.0|0.0|0.0                   |0.0|0.0  |0.0|0.0|0.0|0.0                    |0.0|0.0|0.0                       |0.0          |0.0|0.0|0.0          |0.0|0.0|0.0                   |0.0         |0.0           |32405.0       |0.0     |16002.0          |16403.0      |0.0             |0.0             |0.0              |0.0               |0.0              |0.0               |0.0              |0.0               |32405.0        |0.0             |NULL                  |94.95           |0.0                 |0.0            |0.0            |32405.0        |0                               |0                   |0            |0             |\n",
            "|2008|73401TTLPTHIGHW|110000606746|VALERO REFINING CO -OKLAHOMA VALERO ARDMORE REFINERY|ONE VALERO WAY  |ARDMORE  |CARTER   |OK |73401|906|The Chickasaw Nation          |34.20569|-97.10417|NAD83           |VALERO ENERGY CORP      |NA              |VALERO ENERGY CORP      |NO              |324                 |Petroleum      |NULL       |NULL |NULL |NULL |NULL |NULL |324110       |NULL   |NULL   |NULL   |NULL   |NULL   |1308206658369|Carbon disulfide                                                |NO                      |0000075150              |75-15-0 |5348  |YES                   |TRI           |NO   |Non_Metal                 |NO        |NO |NO  |R        |Pounds         |0.0         |434.6    |0.0  |0.0        |0.0             |0.0               |0.0      |0.0            |0.0            |0.0           |0.0             |0.0            |0.0            |0.0           |434.6                |0.0           |0.0          |0.0                 |0.0|0.0|0.0|0.0      |0.0      |0.0|0.0|0.0|0.0|0.0|0.0|0.0|0.0|0.0|0.0|0.0|0.0|0.0|0.0|0.0                   |0.0|0.0  |0.0|0.0|0.0|0.0                    |0.0|0.0|0.0                       |0.0          |0.0|0.0|0.0          |0.0|0.0|0.0                   |0.0         |0.0           |434.6         |0.0     |0.0              |434.6        |0.0             |0.0             |0.0              |0.0               |0.0              |0.0               |1752936.0        |0.0               |1753370.6      |0.0             |NULL                  |NULL            |0.0                 |0.0            |1752936.0      |434.6          |1                               |0                   |0            |0             |\n",
            "|2008|74764WYRHSHIGHW|110000598639|INTERNATIONAL PAPER CO                              |890 IP LN       |VALLIANT |MCCURTAIN|OK |74764|907|The Choctaw Nation of Oklahoma|33.9984 |-95.1115 |NAD83           |INTERNATIONAL PAPER CO  |001316561       |INTERNATIONAL PAPER CO  |NO              |322                 |Paper          |NULL       |NULL |NULL |NULL |NULL |NULL |322130       |322110 |NULL   |NULL   |NULL   |NULL   |1308206869341|Lead compounds                                                  |NO                      |N420                    |N420    |650002|YES                   |PBT           |YES  |Metal complound categories|NO        |YES|NO  |R        |Pounds         |0.0         |654.0    |212.0|0.0        |0.0             |0.0               |0.0      |0.0            |1394.5         |0.0           |0.0             |0.0            |548.7          |0.0           |2809.2               |0.0           |0.0          |0.0                 |0.0|0.0|0.0|0.0      |0.0      |0.0|0.0|0.0|0.0|0.0|0.0|0.0|0.0|0.0|0.0|0.0|0.0|0.0|0.0|0.0                   |0.0|600.0|0.0|0.0|0.0|600.0                  |0.0|0.0|0.0                       |0.0          |0.0|0.0|0.0          |0.0|0.0|0.0                   |0.0         |600.0         |2809.2        |0.0     |1394.5           |1414.7       |0.0             |0.0             |0.0              |0.0               |0.0              |600.0             |0.0              |0.0               |3409.2         |0.0             |NULL                  |94.95           |0.0                 |600.0          |0.0            |2809.2         |1                               |0                   |1            |0             |\n",
            "+----+---------------+------------+----------------------------------------------------+----------------+---------+---------+---+-----+---+------------------------------+--------+---------+----------------+------------------------+----------------+------------------------+----------------+--------------------+---------------+-----------+-----+-----+-----+-----+-----+-------------+-------+-------+-------+-------+-------+-------------+----------------------------------------------------------------+------------------------+------------------------+--------+------+----------------------+--------------+-----+--------------------------+----------+---+----+---------+---------------+------------+---------+-----+-----------+----------------+------------------+---------+---------------+---------------+--------------+----------------+---------------+---------------+--------------+---------------------+--------------+-------------+--------------------+---+---+---+---------+---------+---+---+---+---+---+---+---+---+---+---+---+---+---+---+----------------------+---+-----+---+---+---+-----------------------+---+---+--------------------------+-------------+---+---+-------------+---+---+----------------------+------------+--------------+--------------+--------+-----------------+-------------+----------------+----------------+-----------------+------------------+-----------------+------------------+-----------------+------------------+---------------+----------------+----------------------+----------------+--------------------+---------------+---------------+---------------+--------------------------------+--------------------+-------------+--------------+\n",
            "only showing top 5 rows\n",
            "\n"
          ]
        }
      ]
    },
    {
      "cell_type": "markdown",
      "source": [
        "Number of Clean Air act chemicals released by year"
      ],
      "metadata": {
        "id": "rTRZETT2Xb-x"
      }
    },
    {
      "cell_type": "code",
      "source": [
        "data.groupBy('YEAR').agg(sum('converted_CLEAN_AIR_ACT_CHEMICAL').alias('total_clean_air_act_chemical')).orderBy(desc('total_clean_air_act_chemical')).show()"
      ],
      "metadata": {
        "colab": {
          "base_uri": "https://localhost:8080/"
        },
        "id": "BTL-Srf2Pn7W",
        "outputId": "0c009674-911d-43e7-bbf1-fab5150bdccd"
      },
      "execution_count": 39,
      "outputs": [
        {
          "output_type": "stream",
          "name": "stdout",
          "text": [
            "+----+----------------------------+\n",
            "|YEAR|total_clean_air_act_chemical|\n",
            "+----+----------------------------+\n",
            "|2008|                       55626|\n",
            "|2014|                       52564|\n",
            "|2011|                       52484|\n",
            "|2013|                       52401|\n",
            "|2010|                       52385|\n",
            "|2012|                       52317|\n",
            "|2009|                       52088|\n",
            "|2015|                       51882|\n",
            "|2017|                       51040|\n",
            "|2016|                       51003|\n",
            "|2018|                       50878|\n",
            "|2019|                       50015|\n",
            "|2022|                       49094|\n",
            "|2020|                       48414|\n",
            "|2021|                       48030|\n",
            "+----+----------------------------+\n",
            "\n"
          ]
        }
      ]
    },
    {
      "cell_type": "markdown",
      "source": [
        "Number of Clean Air act chemicals released by a facility"
      ],
      "metadata": {
        "id": "lKQiOHvKXltM"
      }
    },
    {
      "cell_type": "code",
      "source": [
        "data.groupBy('FACILITY_NAME').agg(sum('converted_CLEAN_AIR_ACT_CHEMICAL').alias('total_clean_air_act_chemical')).orderBy(desc('total_clean_air_act_chemical')).show()"
      ],
      "metadata": {
        "colab": {
          "base_uri": "https://localhost:8080/"
        },
        "id": "zpJFvQuQXQCB",
        "outputId": "935e966f-2411-49be-f248-078a34cf96de"
      },
      "execution_count": 40,
      "outputs": [
        {
          "output_type": "stream",
          "name": "stdout",
          "text": [
            "+--------------------+----------------------------+\n",
            "|       FACILITY_NAME|total_clean_air_act_chemical|\n",
            "+--------------------+----------------------------+\n",
            "| SHERWIN-WILLIAMS CO|                        3761|\n",
            "|           BASF CORP|                        2004|\n",
            "|TESORO LOS ANGELE...|                        1794|\n",
            "|HERITAGE THERMAL ...|                        1756|\n",
            "|VEOLIA ES TECHNIC...|                        1698|\n",
            "|CLEAN HARBORS DEE...|                        1652|\n",
            "|CLEAN HARBORS EL ...|                        1521|\n",
            "|DOW CHEMICAL CO F...|                        1199|\n",
            "|THE DOW CHEMICAL ...|                        1129|\n",
            "|CLEAN HARBORS ARA...|                        1122|\n",
            "|WESTLAKE CHEMICAL...|                        1101|\n",
            "|ROSS INCINERATION...|                        1077|\n",
            "|    VEOLIA N.A. INC.|                        1072|\n",
            "|      PRECOAT METALS|                        1012|\n",
            "|CLEAN HARBORS ENV...|                         895|\n",
            "|UNIVAR SOLUTIONS ...|                         890|\n",
            "| NEXEO SOLUTIONS LLC|                         876|\n",
            "|SUPERIOR INDUSTRI...|                         852|\n",
            "|         EVONIK CORP|                         837|\n",
            "|GRAPHIC PACKAGING...|                         829|\n",
            "+--------------------+----------------------------+\n",
            "only showing top 20 rows\n",
            "\n"
          ]
        }
      ]
    },
    {
      "cell_type": "markdown",
      "source": [
        "Number of Carcinogens released by year"
      ],
      "metadata": {
        "id": "PrXbCvhDXq-_"
      }
    },
    {
      "cell_type": "code",
      "source": [
        "data.groupBy('YEAR').agg(sum('converted_CARCINOGEN').alias('total_carcinogen')).orderBy(desc('total_carcinogen')).show()"
      ],
      "metadata": {
        "id": "gR2m5VI2wye0",
        "colab": {
          "base_uri": "https://localhost:8080/"
        },
        "outputId": "5237ff64-a772-4cba-9c9c-c544dd5d93a6"
      },
      "execution_count": 41,
      "outputs": [
        {
          "output_type": "stream",
          "name": "stdout",
          "text": [
            "+----+----------------+\n",
            "|YEAR|total_carcinogen|\n",
            "+----+----------------+\n",
            "|2008|           24749|\n",
            "|2014|           23697|\n",
            "|2013|           23685|\n",
            "|2011|           23672|\n",
            "|2012|           23636|\n",
            "|2010|           23522|\n",
            "|2015|           23439|\n",
            "|2017|           23405|\n",
            "|2018|           23387|\n",
            "|2009|           23294|\n",
            "|2016|           23095|\n",
            "|2019|           22835|\n",
            "|2022|           22405|\n",
            "|2020|           22229|\n",
            "|2021|           22006|\n",
            "+----+----------------+\n",
            "\n"
          ]
        }
      ]
    },
    {
      "cell_type": "markdown",
      "source": [
        "Number of Carcinogens released by facility"
      ],
      "metadata": {
        "id": "i-cVwgr1XwI7"
      }
    },
    {
      "cell_type": "code",
      "source": [
        "data.groupBy('FACILITY_NAME').agg(sum('converted_CARCINOGEN').alias('total_carcinogen')).orderBy(desc('total_carcinogen')).show()"
      ],
      "metadata": {
        "colab": {
          "base_uri": "https://localhost:8080/"
        },
        "id": "p8xdI-R5XyvX",
        "outputId": "57f68a1d-f6ae-4cef-c5ca-3aca088332bd"
      },
      "execution_count": 42,
      "outputs": [
        {
          "output_type": "stream",
          "name": "stdout",
          "text": [
            "+--------------------+----------------+\n",
            "|       FACILITY_NAME|total_carcinogen|\n",
            "+--------------------+----------------+\n",
            "| SHERWIN-WILLIAMS CO|            1478|\n",
            "|HERITAGE THERMAL ...|            1326|\n",
            "|VEOLIA ES TECHNIC...|            1152|\n",
            "|CLEAN HARBORS DEE...|            1036|\n",
            "|           BASF CORP|             978|\n",
            "|CLEAN HARBORS EL ...|             862|\n",
            "|   STELLA-JONES CORP|             774|\n",
            "|TESORO LOS ANGELE...|             750|\n",
            "|DOW CHEMICAL CO F...|             748|\n",
            "|CLEAN HARBORS ARA...|             707|\n",
            "|ROSS INCINERATION...|             644|\n",
            "|THE DOW CHEMICAL ...|             636|\n",
            "|WESTLAKE CHEMICAL...|             581|\n",
            "|    VEOLIA N.A. INC.|             545|\n",
            "|CLEAN HARBORS ENV...|             530|\n",
            "|OCCIDENTAL CHEMIC...|             474|\n",
            "| THE DOW CHEMICAL CO|             453|\n",
            "|EQUISTAR CHEMICAL...|             428|\n",
            "|         NORLITE LLC|             410|\n",
            "|SUPERIOR INDUSTRI...|             395|\n",
            "+--------------------+----------------+\n",
            "only showing top 20 rows\n",
            "\n"
          ]
        }
      ]
    },
    {
      "cell_type": "markdown",
      "source": [
        "Number of PBT released by year"
      ],
      "metadata": {
        "id": "BlVOtj2DX73A"
      }
    },
    {
      "cell_type": "code",
      "source": [
        "data.groupBy('YEAR').agg(sum('converted_PBT').alias('total_PBT')).orderBy(desc('total_PBT')).show()"
      ],
      "metadata": {
        "colab": {
          "base_uri": "https://localhost:8080/"
        },
        "id": "JY0iipP4PoAl",
        "outputId": "518c7058-b710-4b20-d71a-00f53b06e456"
      },
      "execution_count": 43,
      "outputs": [
        {
          "output_type": "stream",
          "name": "stdout",
          "text": [
            "+----+---------+\n",
            "|YEAR|total_PBT|\n",
            "+----+---------+\n",
            "|2008|    15479|\n",
            "|2009|    14803|\n",
            "|2013|    14635|\n",
            "|2010|    14578|\n",
            "|2012|    14528|\n",
            "|2011|    14508|\n",
            "|2014|    14498|\n",
            "|2015|    14398|\n",
            "|2016|    14023|\n",
            "|2017|    13967|\n",
            "|2018|    13879|\n",
            "|2019|    13570|\n",
            "|2020|    13200|\n",
            "|2021|    13031|\n",
            "|2022|    12992|\n",
            "+----+---------+\n",
            "\n"
          ]
        }
      ]
    },
    {
      "cell_type": "markdown",
      "source": [
        "Number of PBT released by facility"
      ],
      "metadata": {
        "id": "nJdBxbXPYBcV"
      }
    },
    {
      "cell_type": "code",
      "source": [
        "data.groupBy('FACILITY_NAME').agg(sum('converted_PBT').alias('total_PBT')).orderBy(desc('total_PBT')).show()"
      ],
      "metadata": {
        "colab": {
          "base_uri": "https://localhost:8080/"
        },
        "id": "U6cQtGLsYDTB",
        "outputId": "bbe9592a-a323-44e9-8051-5226adf61ccb"
      },
      "execution_count": 44,
      "outputs": [
        {
          "output_type": "stream",
          "name": "stdout",
          "text": [
            "+--------------------+---------+\n",
            "|       FACILITY_NAME|total_PBT|\n",
            "+--------------------+---------+\n",
            "|OLDCASTLE PRECAST...|      797|\n",
            "|   STELLA-JONES CORP|      544|\n",
            "|TILCON CONNECTICU...|      448|\n",
            "|OLDCASTLE LAWN & ...|      445|\n",
            "|     CERTAINTEED LLC|      370|\n",
            "|TESORO LOS ANGELE...|      354|\n",
            "|        US GYPSUM CO|      344|\n",
            "|OWENS CORNING ROO...|      317|\n",
            "|     WESTROCK CP LLC|      316|\n",
            "| SHERWIN-WILLIAMS CO|      296|\n",
            "|TMS INTERNATIONAL...|      278|\n",
            "|HYDRO EXTRUSION U...|      265|\n",
            "|GRAPHIC PACKAGING...|      263|\n",
            "|    VEOLIA N.A. INC.|      262|\n",
            "|CLEAN HARBORS DEE...|      239|\n",
            "|CLEAN HARBORS ARA...|      235|\n",
            "| RAIN CII CARBON LLC|      234|\n",
            "|HEIDELBERG MATERI...|      232|\n",
            "|REAL ALLOY RECYCL...|      225|\n",
            "|    ARDAGH GLASS INC|      221|\n",
            "+--------------------+---------+\n",
            "only showing top 20 rows\n",
            "\n"
          ]
        }
      ]
    },
    {
      "cell_type": "markdown",
      "source": [
        "Number of PFAS released by year"
      ],
      "metadata": {
        "id": "a-S1bJL5YV4V"
      }
    },
    {
      "cell_type": "code",
      "source": [
        "data.groupBy('YEAR').agg(sum('converted_PFAS').alias('total_PFAS')).orderBy(desc('total_PFAS')).show()"
      ],
      "metadata": {
        "colab": {
          "base_uri": "https://localhost:8080/"
        },
        "id": "V5vNziJiPoD5",
        "outputId": "eefff29f-0c4e-47ce-c519-449031ad0a89"
      },
      "execution_count": 45,
      "outputs": [
        {
          "output_type": "stream",
          "name": "stdout",
          "text": [
            "+----+----------+\n",
            "|YEAR|total_PFAS|\n",
            "+----+----------+\n",
            "|2022|       132|\n",
            "|2020|        96|\n",
            "|2021|        86|\n",
            "|2008|         0|\n",
            "|2009|         0|\n",
            "|2010|         0|\n",
            "|2011|         0|\n",
            "|2012|         0|\n",
            "|2013|         0|\n",
            "|2014|         0|\n",
            "|2015|         0|\n",
            "|2016|         0|\n",
            "|2017|         0|\n",
            "|2018|         0|\n",
            "|2019|         0|\n",
            "+----+----------+\n",
            "\n"
          ]
        }
      ]
    },
    {
      "cell_type": "markdown",
      "source": [
        "Number of PFAS released by facility"
      ],
      "metadata": {
        "id": "FKVvZc8gYaJ1"
      }
    },
    {
      "cell_type": "code",
      "source": [
        "data.groupBy('FACILITY_NAME').agg(sum('converted_PFAS').alias('total_PFAS')).orderBy(desc('total_PFAS')).show()"
      ],
      "metadata": {
        "colab": {
          "base_uri": "https://localhost:8080/"
        },
        "id": "ztCbqqivYiOy",
        "outputId": "4a8b97d5-c52a-407f-bc23-b77a2232daab"
      },
      "execution_count": 46,
      "outputs": [
        {
          "output_type": "stream",
          "name": "stdout",
          "text": [
            "+--------------------+----------+\n",
            "|       FACILITY_NAME|total_PFAS|\n",
            "+--------------------+----------+\n",
            "|VEOLIA ES TECHNIC...|        25|\n",
            "|CLEAN HARBORS EL ...|        20|\n",
            "|CHEMICAL WASTE MA...|        18|\n",
            "|3M COTTAGE GROVE ...|        16|\n",
            "|MACDERMID ENTHONE...|        12|\n",
            "|CLEAN HARBORS ENV...|        10|\n",
            "|    EXFLUOR RESEARCH|        10|\n",
            "|CLEAN HARBORS ARA...|        10|\n",
            "|CLEAN HARBORS DEE...|        10|\n",
            "|INNOVATIVE CHEMIC...|         9|\n",
            "|LYMTAL INTERNATIO...|         9|\n",
            "|CHEMOURS WASHINGT...|         8|\n",
            "|BASF CORP - FREEP...|         8|\n",
            "|           ORTEC INC|         7|\n",
            "|US ECOLOGY NEVADA...|         7|\n",
            "| WYOMING REFINING CO|         6|\n",
            "|TM DEER PARK SERV...|         6|\n",
            "|          GOODWIN CO|         6|\n",
            "|CHEMOURS CO - FAY...|         6|\n",
            "|     BETCO CORP - BG|         6|\n",
            "+--------------------+----------+\n",
            "only showing top 20 rows\n",
            "\n"
          ]
        }
      ]
    },
    {
      "cell_type": "markdown",
      "source": [
        "### Data Pre-processing\n",
        " Now that we have analyzed the dataset and have a better understand of each data point, we need to prepare the data to feed into the machine learning algorithm"
      ],
      "metadata": {
        "id": "SLPzBFLMrlbU"
      }
    },
    {
      "cell_type": "code",
      "source": [
        "data.printSchema()"
      ],
      "metadata": {
        "colab": {
          "base_uri": "https://localhost:8080/"
        },
        "id": "iPdSV_P-PoGu",
        "outputId": "84050e40-5015-4b64-f003-7a89c74ed97f"
      },
      "execution_count": 47,
      "outputs": [
        {
          "output_type": "stream",
          "name": "stdout",
          "text": [
            "root\n",
            " |-- YEAR: integer (nullable = true)\n",
            " |-- TRIFD: string (nullable = true)\n",
            " |-- FRS_ID: long (nullable = true)\n",
            " |-- FACILITY_NAME: string (nullable = true)\n",
            " |-- STREET_ADDRESS: string (nullable = true)\n",
            " |-- CITY: string (nullable = true)\n",
            " |-- COUNTY: string (nullable = true)\n",
            " |-- ST: string (nullable = true)\n",
            " |-- ZIP: integer (nullable = true)\n",
            " |-- BIA: integer (nullable = true)\n",
            " |-- TRIBE: string (nullable = true)\n",
            " |-- LATITUDE: double (nullable = true)\n",
            " |-- LONGITUDE: double (nullable = true)\n",
            " |-- HORIZONTAL_DATUM: string (nullable = true)\n",
            " |-- PARENT_CO_NAME: string (nullable = true)\n",
            " |-- PARENT_CO_DB_NUM: string (nullable = true)\n",
            " |-- STANDARD_PARENT_CO_NAME: string (nullable = true)\n",
            " |-- FEDERAL_FACILITY: string (nullable = true)\n",
            " |-- INDUSTRY_SECTOR_CODE: integer (nullable = true)\n",
            " |-- INDUSTRY_SECTOR: string (nullable = true)\n",
            " |-- PRIMARY_SIC: string (nullable = true)\n",
            " |-- SIC_2: string (nullable = true)\n",
            " |-- SIC_3: string (nullable = true)\n",
            " |-- SIC_4: string (nullable = true)\n",
            " |-- SIC_5: string (nullable = true)\n",
            " |-- SIC_6: string (nullable = true)\n",
            " |-- PRIMARY_NAICS: integer (nullable = true)\n",
            " |-- NAICS_2: string (nullable = true)\n",
            " |-- NAICS_3: string (nullable = true)\n",
            " |-- NAICS_4: string (nullable = true)\n",
            " |-- NAICS_5: string (nullable = true)\n",
            " |-- NAICS_6: integer (nullable = true)\n",
            " |-- DOC_CTRL_NUM: long (nullable = true)\n",
            " |-- CHEMICAL: string (nullable = true)\n",
            " |-- ELEMENTAL_METAL_INCLUDED: string (nullable = true)\n",
            " |-- TRI_CHEMICAL_COMPOUND_ID: string (nullable = true)\n",
            " |-- CAS#: string (nullable = true)\n",
            " |-- SRS_ID: integer (nullable = true)\n",
            " |-- CLEAN_AIR_ACT_CHEMICAL: string (nullable = true)\n",
            " |-- CLASSIFICATION: string (nullable = true)\n",
            " |-- METAL: string (nullable = true)\n",
            " |-- METAL_CATEGORY: string (nullable = true)\n",
            " |-- CARCINOGEN: string (nullable = true)\n",
            " |-- PBT: string (nullable = true)\n",
            " |-- PFAS: string (nullable = true)\n",
            " |-- FORM_TYPE: string (nullable = true)\n",
            " |-- UNIT_OF_MEASURE: string (nullable = true)\n",
            " |-- FUGITIVE_AIR: double (nullable = true)\n",
            " |-- STACK_AIR: double (nullable = true)\n",
            " |-- WATER: double (nullable = true)\n",
            " |-- UNDERGROUND: double (nullable = true)\n",
            " |-- UNDERGROUND_CL_I: double (nullable = true)\n",
            " |-- UNDERGROUND_C_II_V: double (nullable = true)\n",
            " |-- LANDFILLS: double (nullable = true)\n",
            " |-- RCRA_C_LANDFILL: double (nullable = true)\n",
            " |-- OTHER_LANDFILLS: double (nullable = true)\n",
            " |-- LAND_TREATMENT: double (nullable = true)\n",
            " |-- SURFACE_IMPNDMNT: double (nullable = true)\n",
            " |-- RCRA_SURFACE_IM: double (nullable = true)\n",
            " |-- OTHER_SURFACE_I: double (nullable = true)\n",
            " |-- OTHER_DISPOSAL: double (nullable = true)\n",
            " |-- ON_SITE_RELEASE_TOTAL: double (nullable = true)\n",
            " |-- POTW_TRNS_RLSE: double (nullable = true)\n",
            " |-- POTW_TRNS_TRT: double (nullable = true)\n",
            " |-- POTW_TOTAL_TRANSFERS: double (nullable = true)\n",
            " |-- M10: double (nullable = true)\n",
            " |-- M41: double (nullable = true)\n",
            " |-- M62: double (nullable = true)\n",
            " |-- M40_METAL: double (nullable = true)\n",
            " |-- M61_METAL: double (nullable = true)\n",
            " |-- M71: double (nullable = true)\n",
            " |-- M81: double (nullable = true)\n",
            " |-- M82: double (nullable = true)\n",
            " |-- M72: double (nullable = true)\n",
            " |-- M63: double (nullable = true)\n",
            " |-- M66: double (nullable = true)\n",
            " |-- M67: double (nullable = true)\n",
            " |-- M64: double (nullable = true)\n",
            " |-- M65: double (nullable = true)\n",
            " |-- M73: double (nullable = true)\n",
            " |-- M79: double (nullable = true)\n",
            " |-- M90: double (nullable = true)\n",
            " |-- M94: double (nullable = true)\n",
            " |-- M99: double (nullable = true)\n",
            " |-- OFF_SITE_RELEASE_TOTAL: double (nullable = true)\n",
            " |-- M20: double (nullable = true)\n",
            " |-- M24: double (nullable = true)\n",
            " |-- M26: double (nullable = true)\n",
            " |-- M28: double (nullable = true)\n",
            " |-- M93: double (nullable = true)\n",
            " |-- OFF_SITE_RECYCLED_TOTAL: double (nullable = true)\n",
            " |-- M56: double (nullable = true)\n",
            " |-- M92: double (nullable = true)\n",
            " |-- OFF_SITE_ENERGY_RECOVERY_T: double (nullable = true)\n",
            " |-- M40_NON_METAL: double (nullable = true)\n",
            " |-- M50: double (nullable = true)\n",
            " |-- M54: double (nullable = true)\n",
            " |-- M61_NON_METAL: double (nullable = true)\n",
            " |-- M69: double (nullable = true)\n",
            " |-- M95: double (nullable = true)\n",
            " |-- OFF_SITE_TREATED_TOTAL: double (nullable = true)\n",
            " |-- UNCLASSIFIED: double (nullable = true)\n",
            " |-- TOTAL_TRANSFER: double (nullable = true)\n",
            " |-- TOTAL_RELEASES: double (nullable = true)\n",
            " |-- RELEASES: double (nullable = true)\n",
            " |-- ON_SITE_CONTAINED: double (nullable = true)\n",
            " |-- ON_SITE_OTHER: double (nullable = true)\n",
            " |-- OFF_SITE_CONTAIN: double (nullable = true)\n",
            " |-- OFF_SITE_OTHER_R: double (nullable = true)\n",
            " |-- ENERGY_RECOVER_ON: double (nullable = true)\n",
            " |-- ENERGY_RECOVER_OFF: double (nullable = true)\n",
            " |-- RECYCLING_ON_SITE: double (nullable = true)\n",
            " |-- RECYCLING_OFF_SITE: double (nullable = true)\n",
            " |-- TREATMENT_ON_SITE: double (nullable = true)\n",
            " |-- TREATMENT_OFF_SITE: double (nullable = true)\n",
            " |-- PRODUCTION_WSTE: double (nullable = true)\n",
            " |-- ONE_TIME_RELEASE: double (nullable = false)\n",
            " |-- PROD_RATIO_OR_ACTIVITY: string (nullable = true)\n",
            " |-- PRODUCTION_RATIO: double (nullable = true)\n",
            " |-- TOTAL_ENERGY_RECOVER: double (nullable = true)\n",
            " |-- TOTAL_RECYCLING: double (nullable = true)\n",
            " |-- TOTAL_TREATMENT: double (nullable = true)\n",
            " |-- TOTAL_DISPOSALS: double (nullable = true)\n",
            " |-- converted_CLEAN_AIR_ACT_CHEMICAL: integer (nullable = false)\n",
            " |-- converted_CARCINOGEN: integer (nullable = false)\n",
            " |-- converted_PBT: integer (nullable = false)\n",
            " |-- converted_PFAS: integer (nullable = false)\n",
            "\n"
          ]
        }
      ]
    },
    {
      "cell_type": "markdown",
      "source": [
        "From the dataset above, we need to create multiple waste management segements based on techniques used.\n",
        "\n",
        "The variables in this dataset are in format that cannot be easily ingest into the waste management segmentation model. These features individually do not tell us much about waste management behaviour.\n",
        "\n",
        "Due to this, we will use the existing variable to derive three new informative features - recycling, enerygy recovery, treatment, disposal or other releases.\n",
        "\n",
        "\n",
        "We will now preprocess the dataframe to create the above variables."
      ],
      "metadata": {
        "id": "0f45h9Lju_aJ"
      }
    },
    {
      "cell_type": "code",
      "source": [
        "data1 = data.groupby('YEAR', 'FACILITY_NAME') \\\n",
        "            .agg(sum('TOTAL_RECYCLING').alias('RECYCLING'),\n",
        "                 sum('TOTAL_ENERGY_RECOVER').alias('ENERGY_RECOVER'),\n",
        "                 sum('TOTAL_TREATMENT').alias('TREATMENT'),\n",
        "                 sum('TOTAL_DISPOSALS').alias('DISPOSAL'),\n",
        "                 sum('PRODUCTION_WSTE').alias('PROD_WASTE'))\n",
        "\n",
        "data1 = data1.orderBy('YEAR')\n"
      ],
      "metadata": {
        "id": "dwR_AZU0vm5h"
      },
      "execution_count": 48,
      "outputs": []
    },
    {
      "cell_type": "code",
      "source": [
        "data1.show(5,0)"
      ],
      "metadata": {
        "colab": {
          "base_uri": "https://localhost:8080/"
        },
        "id": "DGYOVHbVAf6p",
        "outputId": "eb3b4183-672d-467d-e065-91a3403ac8e0"
      },
      "execution_count": 49,
      "outputs": [
        {
          "output_type": "stream",
          "name": "stdout",
          "text": [
            "+----+---------------------------------------+---------+--------------+-----------+-----------------+-----------------+\n",
            "|YEAR|FACILITY_NAME                          |RECYCLING|ENERGY_RECOVER|TREATMENT  |DISPOSAL         |PROD_WASTE       |\n",
            "+----+---------------------------------------+---------+--------------+-----------+-----------------+-----------------+\n",
            "|2008|VALERO REFINING CO - TENNESSEE L.L.C.  |38139.0  |2031222.0     |3402971.4  |168417.4         |5640749.8        |\n",
            "|2008|PHILLIPS 66  - ALLIANCE REFINERY       |41.6539  |29.0          |5964936.893|638961.5945      |6604839.1412     |\n",
            "|2008|ADAMS THERMAL SYSTEMS INC.             |43457.0  |0.0           |0.0        |96.96000000000001|43553.95999999999|\n",
            "|2008|MARTIN MARIETTA SOUTH TEXAS CEMENT LLC.|0.0      |6607160.0     |0.0        |9181.783797      |6616342.558443001|\n",
            "|2008|PAC RANCHO FOUNDRY                     |2260.0   |0.0           |0.0        |1102.5           |2865.5           |\n",
            "+----+---------------------------------------+---------+--------------+-----------+-----------------+-----------------+\n",
            "only showing top 5 rows\n",
            "\n"
          ]
        }
      ]
    },
    {
      "cell_type": "code",
      "source": [
        "data1.printSchema()"
      ],
      "metadata": {
        "colab": {
          "base_uri": "https://localhost:8080/"
        },
        "id": "WUhqbH3K67hK",
        "outputId": "c82dcb0e-6836-436e-94f1-6bf730b16fe1"
      },
      "execution_count": 50,
      "outputs": [
        {
          "output_type": "stream",
          "name": "stdout",
          "text": [
            "root\n",
            " |-- YEAR: integer (nullable = true)\n",
            " |-- FACILITY_NAME: string (nullable = true)\n",
            " |-- RECYCLING: double (nullable = true)\n",
            " |-- ENERGY_RECOVER: double (nullable = true)\n",
            " |-- TREATMENT: double (nullable = true)\n",
            " |-- DISPOSAL: double (nullable = true)\n",
            " |-- PROD_WASTE: double (nullable = true)\n",
            "\n"
          ]
        }
      ]
    },
    {
      "cell_type": "markdown",
      "source": [
        "Since Production waste column is the sum of all the other columns doesn't have any individual value to itself so it is better to drop it."
      ],
      "metadata": {
        "id": "jPfWlkN0Bbyp"
      }
    },
    {
      "cell_type": "code",
      "source": [
        "df = data1.drop('PROD_WASTE')"
      ],
      "metadata": {
        "id": "p7d1n9jxBbAS"
      },
      "execution_count": 51,
      "outputs": []
    },
    {
      "cell_type": "code",
      "source": [
        "df.printSchema()"
      ],
      "metadata": {
        "colab": {
          "base_uri": "https://localhost:8080/"
        },
        "id": "2NZZ6KYIBrF5",
        "outputId": "212d3674-b6a2-4243-f34a-ad48832e281b"
      },
      "execution_count": 52,
      "outputs": [
        {
          "output_type": "stream",
          "name": "stdout",
          "text": [
            "root\n",
            " |-- YEAR: integer (nullable = true)\n",
            " |-- FACILITY_NAME: string (nullable = true)\n",
            " |-- RECYCLING: double (nullable = true)\n",
            " |-- ENERGY_RECOVER: double (nullable = true)\n",
            " |-- TREATMENT: double (nullable = true)\n",
            " |-- DISPOSAL: double (nullable = true)\n",
            "\n"
          ]
        }
      ]
    },
    {
      "cell_type": "code",
      "source": [
        "# Get the number of rows\n",
        "num_rows = df.count()\n",
        "\n",
        "# Get the number of columns\n",
        "num_cols = len(df.columns)\n",
        "\n",
        "# Print the shape\n",
        "print(\"Shape of the DataFrame: ({}, {})\".format(num_rows, num_cols))"
      ],
      "metadata": {
        "colab": {
          "base_uri": "https://localhost:8080/"
        },
        "id": "7I6c31TsNXui",
        "outputId": "67fbda1f-4927-4f8d-bfb0-de57b170cad9"
      },
      "execution_count": 53,
      "outputs": [
        {
          "output_type": "stream",
          "name": "stdout",
          "text": [
            "Shape of the DataFrame: (286806, 6)\n"
          ]
        }
      ]
    },
    {
      "cell_type": "code",
      "source": [
        "from pyspark.sql.functions import *\n",
        "\n",
        "df.cache()\n",
        "\n",
        "# Get the size of each row in bytes\n",
        "row_size_in_bytes = len(df.take(1)[0].__repr__().encode('utf-8'))\n",
        "\n",
        "# Calculate the total size\n",
        "total_size_in_bytes = num_rows * row_size_in_bytes\n",
        "print(f\"Total size of the Dataframe: {total_size_in_bytes:2f} KB\")\n",
        "\n",
        "# Calculate the total size\n",
        "total_size_in_bytes = num_rows * row_size_in_bytes\n",
        "total_size_in_mb = total_size_in_bytes / 1024 / 1024  # Convert bytes to megabytes\n",
        "print(f\"Total size of the Dataframe: {total_size_in_mb:.2f} MB\")\n",
        "\n",
        "# Convert bytes to gigabytes\n",
        "total_size_in_gb = total_size_in_bytes / (1024**3)\n",
        "\n",
        "print(f\"Total size of the DataFrame: {total_size_in_gb:.2f} GB\")"
      ],
      "metadata": {
        "colab": {
          "base_uri": "https://localhost:8080/"
        },
        "id": "tj4RHHjGNh_l",
        "outputId": "f6278e94-e97a-4440-d8bd-3c4fb4cfc28b"
      },
      "execution_count": 56,
      "outputs": [
        {
          "output_type": "stream",
          "name": "stdout",
          "text": [
            "Total size of the Dataframe: 42734094.000000 KB\n",
            "Total size of the Dataframe: 40.75 MB\n",
            "Total size of the DataFrame: 0.04 GB\n"
          ]
        }
      ]
    },
    {
      "cell_type": "markdown",
      "source": [
        "### Standardization\n",
        "\n",
        "Before building the facilities segmentation model, let's standardize the dataframe to ensure that all the variables are around the same scale:"
      ],
      "metadata": {
        "id": "ubtOK_BbA8AA"
      }
    },
    {
      "cell_type": "code",
      "source": [
        "from pyspark.ml.feature import VectorAssembler\n",
        "from pyspark.ml.feature import StandardScaler\n",
        "\n",
        "assemble=VectorAssembler(inputCols=[\n",
        "    'YEAR','RECYCLING','ENERGY_RECOVER', 'TREATMENT', 'DISPOSAL'\n",
        "], outputCol='features')\n",
        "\n",
        "assembled_data=assemble.transform(df)\n",
        "\n",
        "scale=StandardScaler(inputCol='features',outputCol='standardized')\n",
        "data_scale=scale.fit(assembled_data)\n",
        "data_scale_output=data_scale.transform(assembled_data)"
      ],
      "metadata": {
        "id": "JAutuWAr67jo"
      },
      "execution_count": 57,
      "outputs": []
    },
    {
      "cell_type": "markdown",
      "source": [
        "To view the standardized feature vector looks like:"
      ],
      "metadata": {
        "id": "qwiU8IlcCxiv"
      }
    },
    {
      "cell_type": "code",
      "source": [
        "data_scale_output.select('standardized').show(2,truncate=False)"
      ],
      "metadata": {
        "colab": {
          "base_uri": "https://localhost:8080/"
        },
        "id": "aB3VVIrC67mH",
        "outputId": "287f9b09-4641-4603-8e65-78b3f4824820"
      },
      "execution_count": 58,
      "outputs": [
        {
          "output_type": "stream",
          "name": "stdout",
          "text": [
            "+------------------------------------------------------------------------------------------------------+\n",
            "|standardized                                                                                          |\n",
            "+------------------------------------------------------------------------------------------------------+\n",
            "|[465.34066402879466,1.677431544164269E-6,1.2018557941681116E-5,1.2436916955959354,0.10331239896549921]|\n",
            "|[465.34066402879466,0.0,2.7382253548261315,0.0,0.0014845839233779178]                                 |\n",
            "+------------------------------------------------------------------------------------------------------+\n",
            "only showing top 2 rows\n",
            "\n"
          ]
        }
      ]
    },
    {
      "cell_type": "markdown",
      "source": [
        "These are the scaled features that will be fed into the clustering algorithm."
      ],
      "metadata": {
        "id": "sZqUDNhLDEZI"
      }
    },
    {
      "cell_type": "markdown",
      "source": [
        "### Building the Machine Learning Model\n",
        "\n",
        "Now that we have completed all the data analysis and preparation, let's build the K-Means clustering model.\n",
        "\n"
      ],
      "metadata": {
        "id": "MGxcvBBrDLI-"
      }
    },
    {
      "cell_type": "markdown",
      "source": [
        "i) Finding the number of clusters to use\n",
        "\n",
        "When building a K-Means clustering model, we first need to determine the number of clusters or groups we want the algorithm to return. If we decide on three clusters, for instance, then we will have three customer segments.\n",
        "\n",
        "The most popular technique used to decide on how many clusters to use in K-Means is called the “elbow-method.”\n",
        "\n",
        "This is done simply running the K-Means algorithm for a wide range of clusters and visualizing the model results for each cluster. The plot will have an inflection point that looks like an elbow, and we just pick the number of clusters at this point."
      ],
      "metadata": {
        "id": "MbuFgIFSDeLM"
      }
    },
    {
      "cell_type": "code",
      "source": [
        "from pyspark.ml.clustering import KMeans\n",
        "from pyspark.ml.evaluation import ClusteringEvaluator\n",
        "import numpy as np\n",
        "\n",
        "cost = np.zeros(10)\n",
        "\n",
        "evaluator = ClusteringEvaluator(predictionCol='prediction', featuresCol='standardized',metricName='silhouette', distanceMeasure='squaredEuclidean')\n",
        "\n",
        "for i in range(2,10):\n",
        "    KMeans_algo=KMeans(featuresCol='standardized', k=i)\n",
        "    KMeans_fit=KMeans_algo.fit(data_scale_output)\n",
        "    output=KMeans_fit.transform(data_scale_output)\n",
        "    cost[i] = KMeans_fit.summary.trainingCost"
      ],
      "metadata": {
        "id": "DQbDxghl67ot"
      },
      "execution_count": 59,
      "outputs": []
    },
    {
      "cell_type": "markdown",
      "source": [
        "With the codes above, we have successfully, built and evaluated a K-Means clusteringmodel with 2 to 10 clusters. The result have been placed in an array, and can now be visualized ina line chart using pandas"
      ],
      "metadata": {
        "id": "k0_jQs57EDGd"
      }
    },
    {
      "cell_type": "code",
      "source": [
        "import pandas as pd\n",
        "import pylab as pl\n",
        "df_cost = pd.DataFrame(cost[2:])\n",
        "df_cost.columns = [\"cost\"]\n",
        "new_col = range(2,10)\n",
        "df_cost.insert(0, 'cluster', new_col)\n",
        "pl.plot(df_cost.cluster, df_cost.cost)\n",
        "pl.xlabel('Number of Clusters')\n",
        "pl.ylabel('Score')\n",
        "pl.title('Elbow Curve')\n",
        "pl.show()"
      ],
      "metadata": {
        "colab": {
          "base_uri": "https://localhost:8080/",
          "height": 472
        },
        "id": "Q0heG8I067rX",
        "outputId": "ef8e5a38-33e7-416d-c5c0-43488140d3df"
      },
      "execution_count": 60,
      "outputs": [
        {
          "output_type": "display_data",
          "data": {
            "text/plain": [
              "<Figure size 640x480 with 1 Axes>"
            ],
            "image/png": "[encoded data removed]"
          },
          "metadata": {}
        }
      ]
    },
    {
      "cell_type": "markdown",
      "source": [
        "#### ii) Building the K-Means Clustering Model\n",
        "\n",
        "From the plot above, we can see that there is an inflection point that looks like an elbow at four. Due to this, we will procced to build the K-Means algorithm with seven clusters:"
      ],
      "metadata": {
        "id": "CBBt3UBaEYWr"
      }
    },
    {
      "cell_type": "code",
      "source": [
        "KMeans_algo=KMeans(featuresCol='standardized', k=7)\n",
        "KMeans_fit=KMeans_algo.fit(data_scale_output)"
      ],
      "metadata": {
        "id": "CKT33tEH67t4"
      },
      "execution_count": 61,
      "outputs": []
    },
    {
      "cell_type": "markdown",
      "source": [
        "#### iii) Making Predictions\n",
        "\n",
        "Let's use the model we created to assign clusters to each facility in the dataset:"
      ],
      "metadata": {
        "id": "mZi_KpBFFDxp"
      }
    },
    {
      "cell_type": "code",
      "source": [
        "preds=KMeans_fit.transform(data_scale_output)\n",
        "\n",
        "preds.show(5,0)"
      ],
      "metadata": {
        "colab": {
          "base_uri": "https://localhost:8080/"
        },
        "id": "0pEtYJDK67wZ",
        "outputId": "a6210736-69ec-425c-de60-65307daec87c"
      },
      "execution_count": 62,
      "outputs": [
        {
          "output_type": "stream",
          "name": "stdout",
          "text": [
            "+----+-------------------------------------------------+---------+--------------+-----------+------------------+-----------------------------------------------+------------------------------------------------------------------------------------------------------+----------+\n",
            "|YEAR|FACILITY_NAME                                    |RECYCLING|ENERGY_RECOVER|TREATMENT  |DISPOSAL          |features                                       |standardized                                                                                          |prediction|\n",
            "+----+-------------------------------------------------+---------+--------------+-----------+------------------+-----------------------------------------------+------------------------------------------------------------------------------------------------------+----------+\n",
            "|2008|PHILLIPS 66  - ALLIANCE REFINERY                 |41.6539  |29.0          |5964936.893|638961.5945       |[2008.0,41.6539,29.0,5964936.893,638961.5945]  |[465.34066402879466,1.677431544164269E-6,1.2018557941681116E-5,1.2436916955959354,0.10331239896549921]|2         |\n",
            "|2008|MARTIN MARIETTA SOUTH TEXAS CEMENT LLC.          |0.0      |6607160.0     |0.0        |9181.783797       |[2008.0,0.0,6607160.0,0.0,9181.783797]         |[465.34066402879466,0.0,2.7382253548261315,0.0,0.0014845839233779178]                                 |2         |\n",
            "|2008|STARCHEM LLC                                     |0.0      |0.0           |98257.0    |9985.0            |[2008.0,0.0,0.0,98257.0,9985.0]                |[465.34066402879466,0.0,0.0,0.020486623266304155,0.0016144543154862645]                               |2         |\n",
            "|2008|TONAWANDA COKE CORP                              |14578.2  |12220.0       |0.0        |11474.619999999999|[2008.0,14578.2,12220.0,0.0,11474.619999999999]|[465.34066402879466,5.870742604446534E-4,0.005064371656804939,0.0,0.001855307939665999]               |2         |\n",
            "|2008|INEOS NITRILES USA LLC           GREEN LAKE PLANT|0.0      |4.75334E7     |989830.0   |1.1778801E7       |[2008.0,0.0,4.75334E7,989830.0,1.1778801E7]    |[465.34066402879466,0.0,19.699411105693283,0.20637994552740102,1.904490346089527]                     |4         |\n",
            "+----+-------------------------------------------------+---------+--------------+-----------+------------------+-----------------------------------------------+------------------------------------------------------------------------------------------------------+----------+\n",
            "only showing top 5 rows\n",
            "\n"
          ]
        }
      ]
    },
    {
      "cell_type": "markdown",
      "source": [
        "Notice that there is a \"predicition\" column in this dataframe that tells us which cluster each facility belongs to:"
      ],
      "metadata": {
        "id": "j5HBb-fAFkdI"
      }
    },
    {
      "cell_type": "markdown",
      "source": [
        "### Cluster Analysis\n",
        "\n",
        "The To visualize the recycling, energy recovery, treatment, disposal value of each facility in the dataframe:"
      ],
      "metadata": {
        "id": "Ot5krPrVFmgD"
      }
    },
    {
      "cell_type": "code",
      "source": [
        "# import matplotlib.pyplot as plt\n",
        "# import seaborn as sns\n",
        "\n",
        "\n",
        "# df_viz = preds.select('YEAR', 'RECYCLING', 'ENERGY_RECOVER', 'TREATMENT', 'DISPOSAL', 'prediction')\n",
        "# df_viz = df_viz.toPandas()\n",
        "# avg_df = df_viz.groupby(['YEAR'], as_index=False).mean()\n",
        "\n",
        "# list1 = ['RECYCLING', 'ENERGY_RECOVER', 'TREATMENT', 'DISPOSAL' 'prediction']\n",
        "\n",
        "# for column in list1:\n",
        "#     sns.barplot(x='YEAR', y=column, data=avg_df)\n",
        "#     plt.xlabel('Year')\n",
        "#     plt.ylabel(column)\n",
        "#     plt.title(f'Average {column} by Year')\n",
        "#     plt.show()\n"
      ],
      "metadata": {
        "id": "qJ0SCWLVGnLE"
      },
      "execution_count": null,
      "outputs": []
    },
    {
      "cell_type": "code",
      "source": [
        "cluster_counts = preds.groupBy('prediction').count().orderBy('prediction')\n",
        "\n",
        "# Show the number of facilities in each cluster\n",
        "cluster_counts.show()"
      ],
      "metadata": {
        "id": "2pInUmfi7s9y",
        "colab": {
          "base_uri": "https://localhost:8080/"
        },
        "outputId": "cfabbf83-e54e-4b6c-af39-7cef9bfdd05d"
      },
      "execution_count": 63,
      "outputs": [
        {
          "output_type": "stream",
          "name": "stdout",
          "text": [
            "+----------+------+\n",
            "|prediction| count|\n",
            "+----------+------+\n",
            "|         0|151769|\n",
            "|         1|   871|\n",
            "|         2|133478|\n",
            "|         3|   136|\n",
            "|         4|   509|\n",
            "|         5|    17|\n",
            "|         6|    26|\n",
            "+----------+------+\n",
            "\n"
          ]
        }
      ]
    },
    {
      "cell_type": "markdown",
      "source": [
        "Visualiztion of the clusters by prediction"
      ],
      "metadata": {
        "id": "gnqDQDWjGejL"
      }
    },
    {
      "cell_type": "code",
      "source": [
        "import matplotlib.pyplot as plt\n",
        "import seaborn as sns\n",
        "\n",
        "df_viz = preds.select('YEAR', 'RECYCLING', 'ENERGY_RECOVER', 'TREATMENT', 'DISPOSAL', 'prediction')\n",
        "df_viz = df_viz.toPandas()\n",
        "avg_df = df_viz.groupby(['prediction'], as_index=False).mean()\n",
        "\n",
        "list1 = ['YEAR', 'RECYCLING', 'ENERGY_RECOVER', 'TREATMENT', 'DISPOSAL']\n",
        "\n",
        "for column in list1:\n",
        "    sns.barplot(x='prediction', y=column, data=avg_df)\n",
        "    plt.xlabel('Prediction')\n",
        "    plt.ylabel(column)\n",
        "    plt.title(f'Average {column} by cluster')\n",
        "    plt.show()"
      ],
      "metadata": {
        "colab": {
          "base_uri": "https://localhost:8080/",
          "height": 1000
        },
        "id": "xq8gCtLO674u",
        "outputId": "0b19de02-21b7-4443-a49c-af4ebfa86dd2"
      },
      "execution_count": 85,
      "outputs": [
        {
          "output_type": "display_data",
          "data": {
            "text/plain": [
              "<Figure size 640x480 with 1 Axes>"
            ],
            "image/png": "[encoded data removed]"
          },
          "metadata": {}
        },
        {
          "output_type": "display_data",
          "data": {
            "text/plain": [
              "<Figure size 640x480 with 1 Axes>"
            ],
            "image/png": "[encoded data removed]"
          },
          "metadata": {}
        },
        {
          "output_type": "display_data",
          "data": {
            "text/plain": [
              "<Figure size 640x480 with 1 Axes>"
            ],
            "image/png": "[encoded data removed]"
          },
          "metadata": {}
        },
        {
          "output_type": "display_data",
          "data": {
            "text/plain": [
              "<Figure size 640x480 with 1 Axes>"
            ],
            "image/png": "[encoded data removed]"
          },
          "metadata": {}
        },
        {
          "output_type": "display_data",
          "data": {
            "text/plain": [
              "<Figure size 640x480 with 1 Axes>"
            ],
            "image/png": "[encoded data removed]"
          },
          "metadata": {}
        }
      ]
    },
    {
      "cell_type": "code",
      "source": [
        "# Calculate the total sum of each column\n",
        "total_sums = df_viz.groupby('prediction').sum()\n",
        "\n",
        "# Calculate the percentage of each cluster's contribution to the total value of each column\n",
        "percentage_df = pd.DataFrame()\n",
        "for column in list1:\n",
        "    percentage_df[column] = total_sums[column] / total_sums[column].sum() * 100\n",
        "\n",
        "# Display the percentage values\n",
        "print(\"Percentage values of each cluster in each column:\")\n",
        "print(percentage_df)\n"
      ],
      "metadata": {
        "colab": {
          "base_uri": "https://localhost:8080/"
        },
        "id": "_PIFSAJmeZSa",
        "outputId": "313cdd5a-8c39-461d-de40-b0953aea6d26"
      },
      "execution_count": 65,
      "outputs": [
        {
          "output_type": "stream",
          "name": "stdout",
          "text": [
            "Percentage values of each cluster in each column:\n",
            "                 YEAR  RECYCLING  ENERGY_RECOVER  TREATMENT   DISPOSAL\n",
            "prediction                                                            \n",
            "0           53.008892  31.668014       18.507765  29.182173  30.791481\n",
            "1            0.303695   5.509357        5.615877  33.484389   4.289688\n",
            "2           46.447493  28.918356       16.394753  25.627990  31.297273\n",
            "3            0.047430   0.740412       27.392469   2.433417   0.390768\n",
            "4            0.177475   1.172939       31.360412   3.210674  33.039326\n",
            "5            0.005934   0.000023        0.271573   5.957913   0.061215\n",
            "6            0.009081  31.990899        0.457151   0.103444   0.130249\n"
          ]
        }
      ]
    },
    {
      "cell_type": "markdown",
      "source": [
        "Here is an overview of characteristics displayed by facilities in each cluster:\n",
        "\n",
        "- Cluster 0: This cluster represents facilities that have a relatively balanced distribution across recycling, treatment, and disposal activities. They have moderate involvement in recycling and treatment activities.\n",
        "\n",
        "- Cluster 1: Facilities in this cluster have a high involvement in treatment activities compared to other clusters. They have moderate participation in recycling and energy recovery but lower involvement in disposal.\n",
        "\n",
        "- Cluster 2: These facilities have a similar distribution to Cluster 0 but with slightly higher involvement in disposal activities. They have moderate participation in recycling and treatment activities.\n",
        "\n",
        "- Cluster 3: Facilities in this cluster have a very high involvement in energy recovery activities compared to other clusters. They have minimal involvement in recycling and disposal.\n",
        "\n",
        "- Cluster 4: This cluster represents facilities heavily involved in disposal activities. They have minimal involvement in recycling and energy recovery but significant participation in disposal.\n",
        "\n",
        "- Cluster 5: Facilities in this cluster have a high involvement in treatment activities compared to other clusters. They have moderate participation in recycling and minimal involvement in energy recovery and disposal.\n",
        "\n",
        "- Cluster 6: This cluster represents facilities heavily involved in recycling activities compared to other clusters. They have minimal involvement in energy recovery, treatment, and disposal."
      ],
      "metadata": {
        "id": "XKJd6e7HKlyy"
      }
    },
    {
      "cell_type": "code",
      "source": [
        "data1.printSchema()"
      ],
      "metadata": {
        "colab": {
          "base_uri": "https://localhost:8080/"
        },
        "id": "WcVpZaajP-jH",
        "outputId": "9f06a5d3-4a5b-440c-abe1-0ebd26145e68"
      },
      "execution_count": 66,
      "outputs": [
        {
          "output_type": "stream",
          "name": "stdout",
          "text": [
            "root\n",
            " |-- YEAR: integer (nullable = true)\n",
            " |-- FACILITY_NAME: string (nullable = true)\n",
            " |-- RECYCLING: double (nullable = true)\n",
            " |-- ENERGY_RECOVER: double (nullable = true)\n",
            " |-- TREATMENT: double (nullable = true)\n",
            " |-- DISPOSAL: double (nullable = true)\n",
            " |-- PROD_WASTE: double (nullable = true)\n",
            "\n"
          ]
        }
      ]
    },
    {
      "cell_type": "code",
      "source": [
        "df1 = data1.drop('FACILITY_NAME')"
      ],
      "metadata": {
        "id": "GuFNKncPSStb"
      },
      "execution_count": 67,
      "outputs": []
    },
    {
      "cell_type": "code",
      "source": [
        "df1.printSchema()"
      ],
      "metadata": {
        "colab": {
          "base_uri": "https://localhost:8080/"
        },
        "id": "TxJZ8NsjSOO8",
        "outputId": "25cfd630-15b8-427b-cb53-ee2de9468b74"
      },
      "execution_count": 68,
      "outputs": [
        {
          "output_type": "stream",
          "name": "stdout",
          "text": [
            "root\n",
            " |-- YEAR: integer (nullable = true)\n",
            " |-- RECYCLING: double (nullable = true)\n",
            " |-- ENERGY_RECOVER: double (nullable = true)\n",
            " |-- TREATMENT: double (nullable = true)\n",
            " |-- DISPOSAL: double (nullable = true)\n",
            " |-- PROD_WASTE: double (nullable = true)\n",
            "\n"
          ]
        }
      ]
    },
    {
      "cell_type": "markdown",
      "source": [
        "#### Data Pre-Processing for Supervised Learning Models"
      ],
      "metadata": {
        "id": "leIpRTxlsL52"
      }
    },
    {
      "cell_type": "code",
      "source": [
        "from pyspark.ml.feature import VectorAssembler\n",
        "\n",
        "# Select features and target variable\n",
        "feature_columns = [ 'YEAR', 'RECYCLING', 'ENERGY_RECOVER', 'TREATMENT', 'DISPOSAL']\n",
        "target_column = 'PROD_WASTE'\n",
        "\n",
        "# Create a VectorAssembler to assemble feature columns into a feature vector\n",
        "assembler = VectorAssembler(inputCols=feature_columns, outputCol='features')\n",
        "\n",
        "# Transform the DataFrame using the VectorAssembler\n",
        "data_transformed = assembler.transform(df1)\n"
      ],
      "metadata": {
        "id": "GpSXiAFwcFaB"
      },
      "execution_count": 69,
      "outputs": []
    },
    {
      "cell_type": "code",
      "source": [
        "# Split the data into training and testing sets (70% training, 30% testing)\n",
        "train_data, test_data = data_transformed.randomSplit([0.7, 0.3], seed=42)"
      ],
      "metadata": {
        "id": "156k5aBqdJIa"
      },
      "execution_count": 79,
      "outputs": []
    },
    {
      "cell_type": "markdown",
      "source": [
        "## Linear Regression"
      ],
      "metadata": {
        "id": "32rmoyyggTox"
      }
    },
    {
      "cell_type": "code",
      "source": [
        "from pyspark.ml.regression import LinearRegression\n",
        "from pyspark.ml.evaluation import RegressionEvaluator\n",
        "\n",
        "# Train the linear regression model\n",
        "lr = LinearRegression(featuresCol='features', labelCol=target_column)\n",
        "lr_model = lr.fit(train_data)\n",
        "\n",
        "# Make predictions on the testing data\n",
        "lr_predictions = lr_model.transform(test_data)\n",
        "\n",
        "# Evaluate the model\n",
        "lr_evaluator_rmse = RegressionEvaluator(labelCol=target_column, predictionCol='prediction', metricName='rmse')\n",
        "lr_rmse = lr_evaluator_rmse.evaluate(lr_predictions)\n",
        "print(\"Linear Regression - Root Mean Squared Error (RMSE) on test data:\", lr_rmse)\n",
        "\n",
        "# Evaluate the model\n",
        "lr_evaluator_r2 = RegressionEvaluator(labelCol=target_column, predictionCol='prediction', metricName='r2')\n",
        "lr_r2 = lr_evaluator_r2.evaluate(lr_predictions)\n",
        "print(\"Linear Regression - R-Squared Error (R^2) on test data:\", lr_r2)\n",
        "\n",
        "# Show the predicted values alongside the actual values\n",
        "lr_predictions.select(\"prediction\", \"PROD_WASTE\").show(5,0)"
      ],
      "metadata": {
        "colab": {
          "base_uri": "https://localhost:8080/"
        },
        "id": "PJuE1SvE68Fk",
        "outputId": "243011ea-d0a9-4742-d87e-fd2ca01ad278"
      },
      "execution_count": 80,
      "outputs": [
        {
          "output_type": "stream",
          "name": "stdout",
          "text": [
            "Linear Regression - Root Mean Squared Error (RMSE) on test data: 1317398.862722078\n",
            "Linear Regression - R-Squared Error (R^2) on test data: 0.9977091812057655\n",
            "+------------------+----------+\n",
            "|prediction        |PROD_WASTE|\n",
            "+------------------+----------+\n",
            "|290.28826103400206|0.0       |\n",
            "|290.28826103400206|0.0       |\n",
            "|290.28826103400206|0.0       |\n",
            "|290.28826103400206|0.0       |\n",
            "|290.28826103400206|0.0       |\n",
            "+------------------+----------+\n",
            "only showing top 5 rows\n",
            "\n"
          ]
        }
      ]
    },
    {
      "cell_type": "code",
      "source": [
        "# import matplotlib.pyplot as plt\n",
        "\n",
        "# # Collect the predicted and actual values into a Pandas DataFrame\n",
        "# predictions_df = lr_predictions.select(\"prediction\", \"PROD_WASTE\").toPandas()\n",
        "\n",
        "# # Sort the DataFrame by prediction values for better visualization\n",
        "# predictions_df.sort_values(by='prediction', inplace=True)\n",
        "\n",
        "# # Plotting\n",
        "# plt.figure(figsize=(10, 6))\n",
        "# plt.plot(predictions_df[\"PROD_WASTE\"], label='Actual')\n",
        "# plt.plot(predictions_df[\"prediction\"], label='Predicted')\n",
        "# plt.xlabel('Index')\n",
        "# plt.ylabel('Waste Production')\n",
        "# plt.title('Actual vs Predicted Waste Production')\n",
        "# plt.legend()\n",
        "# plt.show()\n"
      ],
      "metadata": {
        "id": "BU9hxd0vu08H"
      },
      "execution_count": 90,
      "outputs": []
    },
    {
      "cell_type": "markdown",
      "source": [
        "In the case of the Linear Regression model:\n",
        "\n",
        "- RMSE (Root Mean Squared Error): The RMSE value is relatively low, indicating that the model's predictions are close to the actual values on the test data.\n",
        "\n",
        "- R-squared (R²) Value: The R-squared value is very high, close to 1, indicating that the model explains a large proportion of the variance in the dependent variable compared to the mean of the dependent variable."
      ],
      "metadata": {
        "id": "ETkrMb5zijq7"
      }
    },
    {
      "cell_type": "markdown",
      "source": [
        "## Random Forest Regressor"
      ],
      "metadata": {
        "id": "Yoyfxe4IgYw4"
      }
    },
    {
      "cell_type": "code",
      "source": [
        "from pyspark.ml.regression import RandomForestRegressor, DecisionTreeRegressor\n",
        "from pyspark.ml.evaluation import RegressionEvaluator\n",
        "\n",
        "# Random Forest\n",
        "rf = RandomForestRegressor(featuresCol='features', labelCol=target_column)\n",
        "rf_model = rf.fit(train_data)\n",
        "\n",
        "# Make predictions on the testing data\n",
        "rf_predictions = rf_model.transform(test_data)\n",
        "\n",
        "# Evaluate the Random Forest model\n",
        "rf_evaluator_rmse = RegressionEvaluator(labelCol=target_column, predictionCol='prediction', metricName='rmse')\n",
        "rf_rmse = rf_evaluator_rmse.evaluate(rf_predictions)\n",
        "print(\"Random Forest - Root Mean Squared Error (RMSE) on test data:\", rf_rmse)\n",
        "\n",
        "rf_evaluator_r2 = RegressionEvaluator(labelCol=target_column, predictionCol='prediction', metricName='r2')\n",
        "rf_r2 = rf_evaluator_r2.evaluate(rf_predictions)\n",
        "print(\"Random Forest - R-Squared Error (R^2) on test data:\", rf_r2)\n",
        "\n",
        "# Show the predicted values alongside the actual values for Random Forest\n",
        "rf_predictions.select(\"prediction\", \"PROD_WASTE\").show(5,0)\n",
        "\n"
      ],
      "metadata": {
        "colab": {
          "base_uri": "https://localhost:8080/"
        },
        "id": "SIvneX7s7vdF",
        "outputId": "bb292211-a2e8-4e09-b07f-4713e50cca4c"
      },
      "execution_count": 81,
      "outputs": [
        {
          "output_type": "stream",
          "name": "stdout",
          "text": [
            "Random Forest - Root Mean Squared Error (RMSE) on test data: 26261736.022215754\n",
            "Random Forest - R-Squared Error (R^2) on test data: 0.08966124434821177\n",
            "+-----------------+----------+\n",
            "|prediction       |PROD_WASTE|\n",
            "+-----------------+----------+\n",
            "|81164.58906479941|0.0       |\n",
            "|81164.58906479941|0.0       |\n",
            "|81164.58906479941|0.0       |\n",
            "|81164.58906479941|0.0       |\n",
            "|81164.58906479941|0.0       |\n",
            "+-----------------+----------+\n",
            "only showing top 5 rows\n",
            "\n"
          ]
        }
      ]
    },
    {
      "cell_type": "code",
      "source": [
        "# import matplotlib.pyplot as plt\n",
        "\n",
        "# # Collect the predicted and actual values into a Pandas DataFrame\n",
        "# predictions_df = rf_predictions.select(\"prediction\", \"PROD_WASTE\").toPandas()\n",
        "\n",
        "# # Sort the DataFrame by prediction values for better visualization\n",
        "# predictions_df.sort_values(by='prediction', inplace=True)\n",
        "\n",
        "# # Plotting\n",
        "# plt.figure(figsize=(10, 6))\n",
        "# plt.plot(predictions_df[\"PROD_WASTE\"], label='Actual')\n",
        "# plt.plot(predictions_df[\"prediction\"], label='Predicted')\n",
        "# plt.xlabel('Index')\n",
        "# plt.ylabel('Waste Production')\n",
        "# plt.title('Actual vs Predicted Waste Production')\n",
        "# plt.legend()\n",
        "# plt.show()\n"
      ],
      "metadata": {
        "id": "YfSW_aTcu-Pw"
      },
      "execution_count": 89,
      "outputs": []
    },
    {
      "cell_type": "markdown",
      "source": [
        "In the case of the Random Forest model:\n",
        "\n",
        "- RMSE (Root Mean Squared Error): The RMSE value is quite high, indicating that the model's predictions deviate substantially from the actual values on the test data.\n",
        "\n",
        "- R-squared (R²) Value: The R-squared value is low, indicating that the model explains only a small proportion of the variance in the dependent variable compared to the mean of the dependent variable."
      ],
      "metadata": {
        "id": "1PuQ6HlihMS7"
      }
    },
    {
      "cell_type": "markdown",
      "source": [
        "## Decision Tree Regressor"
      ],
      "metadata": {
        "id": "niXigQ6AgkxQ"
      }
    },
    {
      "cell_type": "code",
      "source": [
        "from pyspark.ml.regression import RandomForestRegressor, DecisionTreeRegressor\n",
        "from pyspark.ml.evaluation import RegressionEvaluator\n",
        "\n",
        "\n",
        "# Decision Tree\n",
        "dt = DecisionTreeRegressor(featuresCol='features', labelCol=target_column)\n",
        "dt_model = dt.fit(train_data)\n",
        "\n",
        "# Make predictions on the testing data\n",
        "dt_predictions = dt_model.transform(test_data)\n",
        "\n",
        "# Evaluate the Decision Tree model\n",
        "dt_evaluator_rmse = RegressionEvaluator(labelCol=target_column, predictionCol='prediction', metricName='rmse')\n",
        "dt_rmse = dt_evaluator_rmse.evaluate(dt_predictions)\n",
        "print(\"Decision Tree - Root Mean Squared Error (RMSE) on test data:\", dt_rmse)\n",
        "\n",
        "dt_evaluator_r2 = RegressionEvaluator(labelCol=target_column, predictionCol='prediction', metricName='r2')\n",
        "dt_r2 = dt_evaluator_r2.evaluate(dt_predictions)\n",
        "print(\"Decision Tree - R-Squared Error (R^2) on test data:\", dt_r2)\n",
        "\n",
        "# Show the predicted values alongside the actual values for Decision Tree\n",
        "dt_predictions.select(\"prediction\", \"PROD_WASTE\").show(5,0)\n"
      ],
      "metadata": {
        "colab": {
          "base_uri": "https://localhost:8080/"
        },
        "id": "fOQsqSAh72Xw",
        "outputId": "2051dc41-42b7-4a73-fd54-ed027a589df3"
      },
      "execution_count": 82,
      "outputs": [
        {
          "output_type": "stream",
          "name": "stdout",
          "text": [
            "Decision Tree - Root Mean Squared Error (RMSE) on test data: 25765100.381558117\n",
            "Decision Tree - R-Squared Error (R^2) on test data: 0.12376651267814331\n",
            "+-----------------+----------+\n",
            "|prediction       |PROD_WASTE|\n",
            "+-----------------+----------+\n",
            "|71750.30481256406|0.0       |\n",
            "|71750.30481256406|0.0       |\n",
            "|71750.30481256406|0.0       |\n",
            "|71750.30481256406|0.0       |\n",
            "|71750.30481256406|0.0       |\n",
            "+-----------------+----------+\n",
            "only showing top 5 rows\n",
            "\n"
          ]
        }
      ]
    },
    {
      "cell_type": "code",
      "source": [
        "# import matplotlib.pyplot as plt\n",
        "\n",
        "# # Collect the predicted and actual values into a Pandas DataFrame\n",
        "# predictions_df = dt_predictions.select(\"prediction\", \"PROD_WASTE\").toPandas()\n",
        "\n",
        "# # Sort the DataFrame by prediction values for better visualization\n",
        "# predictions_df.sort_values(by='prediction', inplace=True)\n",
        "\n",
        "# # Plotting\n",
        "# plt.figure(figsize=(10, 6))\n",
        "# plt.plot(predictions_df[\"PROD_WASTE\"], label='Actual')\n",
        "# plt.plot(predictions_df[\"prediction\"], label='Predicted')\n",
        "# plt.xlabel('Index')\n",
        "# plt.ylabel('Waste Production')\n",
        "# plt.title('Actual vs Predicted Waste Production')\n",
        "# plt.legend()\n",
        "# plt.show()\n"
      ],
      "metadata": {
        "id": "KIxrDQ7XvEEi"
      },
      "execution_count": null,
      "outputs": []
    },
    {
      "cell_type": "code",
      "source": [
        "# spark.stop()"
      ],
      "metadata": {
        "id": "zu5NYiHrqf8I"
      },
      "execution_count": 91,
      "outputs": []
    },
    {
      "cell_type": "markdown",
      "source": [
        "In the case of the Decision Tree model:\n",
        "\n",
        "- RMSE (Root Mean Squared Error): The RMSE value is very high, indicating that the model's predictions deviate significantly from the actual values on the test data.\n",
        "\n",
        "- R-squared (R²) Value: The R-squared value is negative, which is unusual and generally indicates that the model is performing worse than a model that simply predicts the mean of the target variable."
      ],
      "metadata": {
        "id": "8-_qaSu2hrVq"
      }
    },
    {
      "cell_type": "markdown",
      "source": [
        "### Conclusion\n",
        "Based on the TRI data, Two types of Machine Learning models were used to predict (Supervised Learning model and Unsupervised Learning model).\n",
        "\n",
        "- Supervised Learning Model:\n",
        "For this model three algorithms (Linear Regression, Random Forest, Decision Tree) were used to predict the production waste of the data over the years. Of the three models Linear Regression model seems to work the best for the chosen features.Root mean square error and R-squared value are the metrics used to evaluate the model's performance.\n",
        "\n",
        "- Unsupervised Learning Model:\n",
        "For this model K-means clustering was used to predict the facilites segemntation based on the Waste Management Involvement Activities.an elbow plot was utlilsed to determine the optimized number of clusters."
      ],
      "metadata": {
        "id": "7kTkMw5Um8ql"
      }
    }
  ]
}